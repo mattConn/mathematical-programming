{
 "cells": [
  {
   "cell_type": "code",
   "execution_count": 8,
   "metadata": {},
   "outputs": [],
   "source": [
    "from sympy import *\n",
    "u = symbols('u')\n",
    "\n",
    "# get nth derivative\n",
    "def getDiff(f,n=1):\n",
    "    result = lambdify(u, diff(f(u),u))\n",
    "    for i in range(1,n):\n",
    "        result = getDiff(result,i)\n",
    "    return result"
   ]
  },
  {
   "cell_type": "code",
   "execution_count": 11,
   "metadata": {},
   "outputs": [
    {
     "name": "stdout",
     "output_type": "stream",
     "text": [
      "20\n",
      "4\n",
      "0\n"
     ]
    }
   ],
   "source": [
    "# example\n",
    "def g(x):\n",
    "    return x**3\n",
    "\n",
    "# some const\n",
    "c = 5\n",
    "\n",
    "# computing first 3 derivatives at c\n",
    "for i in range(1,4):\n",
    "    print(getDiff(g,i)(c))"
   ]
  },
  {
   "cell_type": "code",
   "execution_count": null,
   "metadata": {},
   "outputs": [],
   "source": []
  }
 ],
 "metadata": {
  "kernelspec": {
   "display_name": "Python 3",
   "language": "python",
   "name": "python3"
  },
  "language_info": {
   "codemirror_mode": {
    "name": "ipython",
    "version": 3
   },
   "file_extension": ".py",
   "mimetype": "text/x-python",
   "name": "python",
   "nbconvert_exporter": "python",
   "pygments_lexer": "ipython3",
   "version": "3.6.4"
  }
 },
 "nbformat": 4,
 "nbformat_minor": 2
}
