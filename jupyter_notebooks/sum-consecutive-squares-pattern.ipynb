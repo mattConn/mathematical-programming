{
 "cells": [
  {
   "cell_type": "code",
   "execution_count": 2,
   "metadata": {},
   "outputs": [
    {
     "name": "stdout",
     "output_type": "stream",
     "text": [
      "10^1 : 385.0\n",
      "10^2 : 338350.0\n",
      "10^3 : 3.338335e8\n",
      "10^4 : 3.33383335e11\n",
      "10^5 : 3.3333833335e14\n",
      "10^6 : 3.3333383333312755e17\n"
     ]
    }
   ],
   "source": [
    "s = 0 # sum\n",
    "\n",
    "j = 1\n",
    "for i in 1:1e6\n",
    "    s += i^2\n",
    "    \n",
    "    if log10(i) == j\n",
    "        println(\"10^\",j,\" : \",s)\n",
    "        j += 1\n",
    "    end\n",
    "end"
   ]
  },
  {
   "cell_type": "code",
   "execution_count": null,
   "metadata": {},
   "outputs": [],
   "source": []
  },
  {
   "cell_type": "code",
   "execution_count": null,
   "metadata": {},
   "outputs": [],
   "source": []
  }
 ],
 "metadata": {
  "kernelspec": {
   "display_name": "Julia 0.6.2",
   "language": "julia",
   "name": "julia-0.6"
  },
  "language_info": {
   "file_extension": ".jl",
   "mimetype": "application/julia",
   "name": "julia",
   "version": "0.6.2"
  }
 },
 "nbformat": 4,
 "nbformat_minor": 2
}
