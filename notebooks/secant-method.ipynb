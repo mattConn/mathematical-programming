{
 "cells": [
  {
   "cell_type": "markdown",
   "metadata": {},
   "source": [
    "# MTH 335 Exam 1 Extra Credit\n",
    "### Write a computer function to find zeros using the secant method.\n",
    "The secant method finds zeros by calculating the intersection of a secant line with the $x$-axis. At the start of the algorithm, the secant line will be between $f(x_0)$ and $f(x_1)$. The $x$-axis intersection can then be calculated iteratively as follows (taking $x_n$ to mean $x_1$ on the first iteration):  \n",
    "\n",
    "$$\n",
    "x_{n+1} = x_n - \\frac{x_n - x_{n-1}}{f(x_n) - f(x_{n-1})} \\cdot f(x_n)\n",
    "$$"
   ]
  },
  {
   "cell_type": "code",
   "execution_count": 366,
   "metadata": {},
   "outputs": [],
   "source": [
    "using Plots"
   ]
  },
  {
   "cell_type": "markdown",
   "metadata": {},
   "source": [
    "## Secant Method Function ${\\tt sm}$\n",
    "The following is a secant method function definition.  \n",
    "It will accept an initial $x_0$ and $x_1$, as well as a function and an optional integer argument that may denote a maximum number of iterations for the algorithm."
   ]
  },
  {
   "cell_type": "code",
   "execution_count": 367,
   "metadata": {},
   "outputs": [
    {
     "data": {
      "text/plain": [
       "sm (generic function with 6 methods)"
      ]
     },
     "execution_count": 367,
     "metadata": {},
     "output_type": "execute_result"
    }
   ],
   "source": [
    "# secant method zero finder\n",
    "function sm(x0::Float64, x1::Float64, f, max_iter::Int64 = 10)\n",
    "    # current and next x\n",
    "    current = x0\n",
    "    next = x1\n",
    "    intersection = 0 # line intersection with x-axis\n",
    "    \n",
    "    # store intersections\n",
    "    xArr = []\n",
    "    \n",
    "    # finding intersection\n",
    "    iterations = 0\n",
    "    \n",
    "    while(iterations < max_iter)\n",
    "        intersection = next - ( next - current )/( f(next) - f(current) ) * f(next)\n",
    "\n",
    "        # check for NaN\n",
    "        isnan(intersection) ? break :\n",
    "        \n",
    "        # save intersection\n",
    "        push!(xArr, intersection)\n",
    "        \n",
    "        # set next x's\n",
    "        current = next\n",
    "        next = intersection\n",
    "        \n",
    "        \n",
    "        iterations += 1\n",
    "    end\n",
    "    \n",
    "    return xArr # return intersections\n",
    "end"
   ]
  },
  {
   "cell_type": "markdown",
   "metadata": {},
   "source": [
    "Now for a simple test of the secant method function; it seems to run well."
   ]
  },
  {
   "cell_type": "code",
   "execution_count": 368,
   "metadata": {},
   "outputs": [
    {
     "data": {
      "text/plain": [
       "8-element Array{Any,1}:\n",
       " -1.75   \n",
       " -2.09091\n",
       " -1.99408\n",
       " -1.99987\n",
       " -2.0    \n",
       " -2.0    \n",
       " -2.0    \n",
       " -2.0    "
      ]
     },
     "execution_count": 368,
     "metadata": {},
     "output_type": "execute_result"
    }
   ],
   "source": [
    "# sm function test\n",
    "\n",
    "f(x) = x^2 - 4\n",
    "sm(-3,-1,f) # looking for -2"
   ]
  },
  {
   "cell_type": "markdown",
   "metadata": {},
   "source": [
    "Listing these duplicate intersection can be prevented if need be; the algorithm will stop when it encounters a ${\\tt NaN}$, which is seen in this test."
   ]
  },
  {
   "cell_type": "markdown",
   "metadata": {},
   "source": [
    "## Find zeros for the following functions with the given $x$'s to start\n",
    "We are tasked with finding the zeros of the following functions:\n",
    "\n",
    "### Function 1: \n",
    "$ f(x) = x^5 - x - 1 $  \n",
    "\n",
    "$x_0,x_1 = (0.9,0.8)$  \n",
    "and  \n",
    "$x_0,x_1 = (0.5,0.6)$\n",
    "\n",
    "### Function 2: \n",
    "$ f(x) = e^x - x^4 $  \n",
    "\n",
    "$x_0,x_1 = (7.9,8.0)$\n",
    "\n",
    "### Function 3 (Newton Baffler): \n",
    "Let $m=1$, $b=\\frac{1}{2}$\n",
    "\n",
    "$\n",
    "f(x) = \\left\\{\n",
    "        \\begin{array}{ll}\n",
    "            2mx & \\quad -b < x < b \\\\\n",
    "            2mb + m(x-b)& \\quad x > b \\\\\n",
    "            -2mb + m(x+b) & \\quad x < -b\n",
    "        \\end{array}\n",
    "    \\right.\n",
    "$\n",
    "\n",
    "\n",
    "$x_0,x_1 = (-1,\\frac{3}{4})$"
   ]
  },
  {
   "cell_type": "markdown",
   "metadata": {},
   "source": [
    "<hr>"
   ]
  },
  {
   "cell_type": "markdown",
   "metadata": {},
   "source": [
    "## Function 1: \n",
    "$ f(x) = x^5 - x - 1 $  \n",
    "\n",
    "$x_0,x_1 = (0.9,0.8)$  \n",
    "and  \n",
    "$x_0,x_1 = (0.5,0.6)$\n",
    "\n",
    "Plotted below:"
   ]
  },
  {
   "cell_type": "code",
   "execution_count": 375,
   "metadata": {},
   "outputs": [
    {
     "data": {
      "image/svg+xml": [
       "<?xml version=\"1.0\" encoding=\"utf-8\"?>\n",
       "<svg xmlns=\"http://www.w3.org/2000/svg\" xmlns:xlink=\"http://www.w3.org/1999/xlink\" width=\"600\" height=\"400\" viewBox=\"0 0 600 400\">\n",
       "<defs>\n",
       "  <clipPath id=\"clip5700\">\n",
       "    <rect x=\"0\" y=\"0\" width=\"600\" height=\"400\"/>\n",
       "  </clipPath>\n",
       "</defs>\n",
       "<polygon clip-path=\"url(#clip5700)\" points=\"\n",
       "0,400 600,400 600,0 0,0 \n",
       "  \" fill=\"#ffffff\" fill-opacity=\"1\"/>\n",
       "<defs>\n",
       "  <clipPath id=\"clip5701\">\n",
       "    <rect x=\"120\" y=\"0\" width=\"421\" height=\"400\"/>\n",
       "  </clipPath>\n",
       "</defs>\n",
       "<polygon clip-path=\"url(#clip5700)\" points=\"\n",
       "44.0307,375.869 580.315,375.869 580.315,11.811 44.0307,11.811 \n",
       "  \" fill=\"#ffffff\" fill-opacity=\"1\"/>\n",
       "<defs>\n",
       "  <clipPath id=\"clip5702\">\n",
       "    <rect x=\"44\" y=\"11\" width=\"537\" height=\"365\"/>\n",
       "  </clipPath>\n",
       "</defs>\n",
       "<polyline clip-path=\"url(#clip5700)\" style=\"stroke:#000000; stroke-width:1; stroke-opacity:1; fill:none\" points=\"\n",
       "  44.0307,375.869 580.315,375.869 \n",
       "  \"/>\n",
       "<polyline clip-path=\"url(#clip5700)\" style=\"stroke:#000000; stroke-width:1; stroke-opacity:1; fill:none\" points=\"\n",
       "  44.0307,375.869 44.0307,11.811 \n",
       "  \"/>\n",
       "<polyline clip-path=\"url(#clip5700)\" style=\"stroke:#000000; stroke-width:1; stroke-opacity:1; fill:none\" points=\"\n",
       "  57.9664,375.869 57.9664,370.408 \n",
       "  \"/>\n",
       "<polyline clip-path=\"url(#clip5700)\" style=\"stroke:#000000; stroke-width:1; stroke-opacity:1; fill:none\" points=\"\n",
       "  185.163,375.869 185.163,370.408 \n",
       "  \"/>\n",
       "<polyline clip-path=\"url(#clip5700)\" style=\"stroke:#000000; stroke-width:1; stroke-opacity:1; fill:none\" points=\"\n",
       "  312.36,375.869 312.36,370.408 \n",
       "  \"/>\n",
       "<polyline clip-path=\"url(#clip5700)\" style=\"stroke:#000000; stroke-width:1; stroke-opacity:1; fill:none\" points=\"\n",
       "  439.557,375.869 439.557,370.408 \n",
       "  \"/>\n",
       "<polyline clip-path=\"url(#clip5700)\" style=\"stroke:#000000; stroke-width:1; stroke-opacity:1; fill:none\" points=\"\n",
       "  566.754,375.869 566.754,370.408 \n",
       "  \"/>\n",
       "<polyline clip-path=\"url(#clip5700)\" style=\"stroke:#000000; stroke-width:1; stroke-opacity:1; fill:none\" points=\"\n",
       "  44.0307,364.173 52.075,364.173 \n",
       "  \"/>\n",
       "<polyline clip-path=\"url(#clip5700)\" style=\"stroke:#000000; stroke-width:1; stroke-opacity:1; fill:none\" points=\"\n",
       "  44.0307,305.206 52.075,305.206 \n",
       "  \"/>\n",
       "<polyline clip-path=\"url(#clip5700)\" style=\"stroke:#000000; stroke-width:1; stroke-opacity:1; fill:none\" points=\"\n",
       "  44.0307,246.24 52.075,246.24 \n",
       "  \"/>\n",
       "<polyline clip-path=\"url(#clip5700)\" style=\"stroke:#000000; stroke-width:1; stroke-opacity:1; fill:none\" points=\"\n",
       "  44.0307,187.273 52.075,187.273 \n",
       "  \"/>\n",
       "<polyline clip-path=\"url(#clip5700)\" style=\"stroke:#000000; stroke-width:1; stroke-opacity:1; fill:none\" points=\"\n",
       "  44.0307,128.306 52.075,128.306 \n",
       "  \"/>\n",
       "<polyline clip-path=\"url(#clip5700)\" style=\"stroke:#000000; stroke-width:1; stroke-opacity:1; fill:none\" points=\"\n",
       "  44.0307,69.3398 52.075,69.3398 \n",
       "  \"/>\n",
       "<g clip-path=\"url(#clip5700)\">\n",
       "<text style=\"fill:#000000; fill-opacity:1; font-family:Arial,Helvetica Neue,Helvetica,sans-serif; font-size:12; text-anchor:middle;\" transform=\"rotate(0, 57.9664, 389.669)\" x=\"57.9664\" y=\"389.669\">-2</text>\n",
       "</g>\n",
       "<g clip-path=\"url(#clip5700)\">\n",
       "<text style=\"fill:#000000; fill-opacity:1; font-family:Arial,Helvetica Neue,Helvetica,sans-serif; font-size:12; text-anchor:middle;\" transform=\"rotate(0, 185.163, 389.669)\" x=\"185.163\" y=\"389.669\">-1</text>\n",
       "</g>\n",
       "<g clip-path=\"url(#clip5700)\">\n",
       "<text style=\"fill:#000000; fill-opacity:1; font-family:Arial,Helvetica Neue,Helvetica,sans-serif; font-size:12; text-anchor:middle;\" transform=\"rotate(0, 312.36, 389.669)\" x=\"312.36\" y=\"389.669\">0</text>\n",
       "</g>\n",
       "<g clip-path=\"url(#clip5700)\">\n",
       "<text style=\"fill:#000000; fill-opacity:1; font-family:Arial,Helvetica Neue,Helvetica,sans-serif; font-size:12; text-anchor:middle;\" transform=\"rotate(0, 439.557, 389.669)\" x=\"439.557\" y=\"389.669\">1</text>\n",
       "</g>\n",
       "<g clip-path=\"url(#clip5700)\">\n",
       "<text style=\"fill:#000000; fill-opacity:1; font-family:Arial,Helvetica Neue,Helvetica,sans-serif; font-size:12; text-anchor:middle;\" transform=\"rotate(0, 566.754, 389.669)\" x=\"566.754\" y=\"389.669\">2</text>\n",
       "</g>\n",
       "<g clip-path=\"url(#clip5700)\">\n",
       "<text style=\"fill:#000000; fill-opacity:1; font-family:Arial,Helvetica Neue,Helvetica,sans-serif; font-size:12; text-anchor:end;\" transform=\"rotate(0, 38.0307, 368.673)\" x=\"38.0307\" y=\"368.673\">-30</text>\n",
       "</g>\n",
       "<g clip-path=\"url(#clip5700)\">\n",
       "<text style=\"fill:#000000; fill-opacity:1; font-family:Arial,Helvetica Neue,Helvetica,sans-serif; font-size:12; text-anchor:end;\" transform=\"rotate(0, 38.0307, 309.706)\" x=\"38.0307\" y=\"309.706\">-20</text>\n",
       "</g>\n",
       "<g clip-path=\"url(#clip5700)\">\n",
       "<text style=\"fill:#000000; fill-opacity:1; font-family:Arial,Helvetica Neue,Helvetica,sans-serif; font-size:12; text-anchor:end;\" transform=\"rotate(0, 38.0307, 250.74)\" x=\"38.0307\" y=\"250.74\">-10</text>\n",
       "</g>\n",
       "<g clip-path=\"url(#clip5700)\">\n",
       "<text style=\"fill:#000000; fill-opacity:1; font-family:Arial,Helvetica Neue,Helvetica,sans-serif; font-size:12; text-anchor:end;\" transform=\"rotate(0, 38.0307, 191.773)\" x=\"38.0307\" y=\"191.773\">0</text>\n",
       "</g>\n",
       "<g clip-path=\"url(#clip5700)\">\n",
       "<text style=\"fill:#000000; fill-opacity:1; font-family:Arial,Helvetica Neue,Helvetica,sans-serif; font-size:12; text-anchor:end;\" transform=\"rotate(0, 38.0307, 132.806)\" x=\"38.0307\" y=\"132.806\">10</text>\n",
       "</g>\n",
       "<g clip-path=\"url(#clip5700)\">\n",
       "<text style=\"fill:#000000; fill-opacity:1; font-family:Arial,Helvetica Neue,Helvetica,sans-serif; font-size:12; text-anchor:end;\" transform=\"rotate(0, 38.0307, 73.8398)\" x=\"38.0307\" y=\"73.8398\">20</text>\n",
       "</g>\n",
       "<polyline clip-path=\"url(#clip5702)\" style=\"stroke:#000000; stroke-width:1.5; stroke-opacity:1; fill:none\" points=\"\n",
       "  59.2086,365.565 60.4508,361.149 61.693,356.821 62.9351,352.578 68.678,334.048 74.4209,317.208 80.1638,301.942 85.9067,288.139 91.6495,275.694 97.3924,264.504 \n",
       "  103.135,254.476 108.878,245.517 115.781,236.046 122.683,227.857 129.586,220.821 136.488,214.816 148.16,206.697 159.832,200.72 172.511,196.16 185.19,193.165 \n",
       "  196.879,191.454 208.567,190.491 233.631,190.056 262.669,190.92 288.475,192.064 311.105,193.112 335.777,194.254 360.596,195.36 388.036,196.238 414.145,195.954 \n",
       "  427.718,194.9 441.292,192.837 452.718,190.029 464.144,185.939 471.119,182.668 478.094,178.708 485.069,173.962 492.044,168.328 498.6,162.122 505.157,154.931 \n",
       "  511.714,146.649 518.27,137.159 523.522,128.604 528.775,119.129 534.027,108.664 539.279,97.1334 544.531,84.4613 549.783,70.566 555.035,55.3628 560.287,38.7629 \n",
       "  561.904,33.3582 563.521,27.8097 565.137,22.1145 \n",
       "  \"/>\n",
       "<polyline clip-path=\"url(#clip5702)\" style=\"stroke:#000000; stroke-width:1.5; stroke-opacity:1; fill:none\" stroke-dasharray=\"8, 5\" points=\"\n",
       "  62.9351,187.273 108.878,187.273 136.488,187.273 159.832,187.273 185.19,187.273 208.567,187.273 233.631,187.273 262.669,187.273 288.475,187.273 311.105,187.273 \n",
       "  335.777,187.273 360.596,187.273 388.036,187.273 414.145,187.273 441.292,187.273 464.144,187.273 492.044,187.273 518.27,187.273 560.287,187.273 \n",
       "  \"/>\n",
       "</svg>\n"
      ]
     },
     "execution_count": 375,
     "metadata": {},
     "output_type": "execute_result"
    }
   ],
   "source": [
    "f(x) = x^5 - x - 1\n",
    "bound = 2\n",
    "plot(f,-bound,bound,label=\"\",color=\"black\",lw=1.5,grid=false)\n",
    "plot!(zero,-bound,bound,label=\"\",color=\"black\",lw=1.5,grid=false,linestyle=:dash)"
   ]
  },
  {
   "cell_type": "markdown",
   "metadata": {},
   "source": [
    "### Finding zeros using ${\\tt sm}$ function:"
   ]
  },
  {
   "cell_type": "code",
   "execution_count": 376,
   "metadata": {},
   "outputs": [
    {
     "name": "stdout",
     "output_type": "stream",
     "text": [
      "Starting from 0.9, 0.8 \n",
      " then from 0.5, 0.6:\n",
      "\n",
      "Any[1.70432, 0.901267, 0.982092, 1.34476, 1.10624, 1.14909, 1.16963, 1.16722, 1.1673, 1.1673, 1.1673, 1.1673]\n",
      "\titerations: 12\n",
      "\n",
      "\n",
      "Any[-2.24584, 0.679683, 0.762283, 4.94353, 0.764418, 0.766549, 2.86187, 0.783145, 0.799465, 2.3324, 0.83308, 0.86506, 1.7277, 0.949849, 1.01597, 1.26982, 1.13655, 1.16171, 1.16765, 1.1673, 1.1673, 1.1673, 1.1673, 1.1673]\n",
      "\titerations: 24\n",
      "\n",
      "\n",
      "Evaluating function at both zeros found:\n",
      "\n",
      "6.661338147750939e-16, 6.661338147750939e-16\n"
     ]
    }
   ],
   "source": [
    "ans1 = sm(0.9,0.8,f,30)\n",
    "ans2 = sm(0.5,0.6,f,30)\n",
    "answers = [ans1,ans2]\n",
    "\n",
    "println(\"Starting from 0.9, 0.8 \\n then from 0.5, 0.6:\\n\")\n",
    "for i in answers\n",
    "    println(i, \"\\n\\titerations: \", length(i),\"\\n\\n\")\n",
    "end\n",
    "\n",
    "println(\"Evaluating function at both zeros found:\")\n",
    "println(\"\\n\", f(ans1[end]), \", \", f(ans2[end]))"
   ]
  },
  {
   "cell_type": "markdown",
   "metadata": {},
   "source": [
    "## Function 2: \n",
    "$ f(x) = e^x - x^4 $  \n",
    "\n",
    "$x_0,x_1 = (7.9,8.0)$\n",
    "\n",
    "Plotted below:"
   ]
  },
  {
   "cell_type": "code",
   "execution_count": 377,
   "metadata": {},
   "outputs": [
    {
     "data": {
      "image/svg+xml": [
       "<?xml version=\"1.0\" encoding=\"utf-8\"?>\n",
       "<svg xmlns=\"http://www.w3.org/2000/svg\" xmlns:xlink=\"http://www.w3.org/1999/xlink\" width=\"600\" height=\"400\" viewBox=\"0 0 600 400\">\n",
       "<defs>\n",
       "  <clipPath id=\"clip5900\">\n",
       "    <rect x=\"0\" y=\"0\" width=\"600\" height=\"400\"/>\n",
       "  </clipPath>\n",
       "</defs>\n",
       "<polygon clip-path=\"url(#clip5900)\" points=\"\n",
       "0,400 600,400 600,0 0,0 \n",
       "  \" fill=\"#ffffff\" fill-opacity=\"1\"/>\n",
       "<defs>\n",
       "  <clipPath id=\"clip5901\">\n",
       "    <rect x=\"120\" y=\"0\" width=\"421\" height=\"400\"/>\n",
       "  </clipPath>\n",
       "</defs>\n",
       "<polygon clip-path=\"url(#clip5900)\" points=\"\n",
       "70.8532,375.869 580.315,375.869 580.315,11.811 70.8532,11.811 \n",
       "  \" fill=\"#ffffff\" fill-opacity=\"1\"/>\n",
       "<defs>\n",
       "  <clipPath id=\"clip5902\">\n",
       "    <rect x=\"70\" y=\"11\" width=\"510\" height=\"365\"/>\n",
       "  </clipPath>\n",
       "</defs>\n",
       "<polyline clip-path=\"url(#clip5900)\" style=\"stroke:#000000; stroke-width:1; stroke-opacity:1; fill:none\" points=\"\n",
       "  70.8532,375.869 580.315,375.869 \n",
       "  \"/>\n",
       "<polyline clip-path=\"url(#clip5900)\" style=\"stroke:#000000; stroke-width:1; stroke-opacity:1; fill:none\" points=\"\n",
       "  70.8532,375.869 70.8532,11.811 \n",
       "  \"/>\n",
       "<polyline clip-path=\"url(#clip5900)\" style=\"stroke:#000000; stroke-width:1; stroke-opacity:1; fill:none\" points=\"\n",
       "  84.0938,375.869 84.0938,370.408 \n",
       "  \"/>\n",
       "<polyline clip-path=\"url(#clip5900)\" style=\"stroke:#000000; stroke-width:1; stroke-opacity:1; fill:none\" points=\"\n",
       "  204.736,375.869 204.736,370.408 \n",
       "  \"/>\n",
       "<polyline clip-path=\"url(#clip5900)\" style=\"stroke:#000000; stroke-width:1; stroke-opacity:1; fill:none\" points=\"\n",
       "  325.378,375.869 325.378,370.408 \n",
       "  \"/>\n",
       "<polyline clip-path=\"url(#clip5900)\" style=\"stroke:#000000; stroke-width:1; stroke-opacity:1; fill:none\" points=\"\n",
       "  446.021,375.869 446.021,370.408 \n",
       "  \"/>\n",
       "<polyline clip-path=\"url(#clip5900)\" style=\"stroke:#000000; stroke-width:1; stroke-opacity:1; fill:none\" points=\"\n",
       "  566.663,375.869 566.663,370.408 \n",
       "  \"/>\n",
       "<polyline clip-path=\"url(#clip5900)\" style=\"stroke:#000000; stroke-width:1; stroke-opacity:1; fill:none\" points=\"\n",
       "  70.8532,368.696 78.4952,368.696 \n",
       "  \"/>\n",
       "<polyline clip-path=\"url(#clip5900)\" style=\"stroke:#000000; stroke-width:1; stroke-opacity:1; fill:none\" points=\"\n",
       "  70.8532,287.961 78.4952,287.961 \n",
       "  \"/>\n",
       "<polyline clip-path=\"url(#clip5900)\" style=\"stroke:#000000; stroke-width:1; stroke-opacity:1; fill:none\" points=\"\n",
       "  70.8532,207.226 78.4952,207.226 \n",
       "  \"/>\n",
       "<polyline clip-path=\"url(#clip5900)\" style=\"stroke:#000000; stroke-width:1; stroke-opacity:1; fill:none\" points=\"\n",
       "  70.8532,126.491 78.4952,126.491 \n",
       "  \"/>\n",
       "<polyline clip-path=\"url(#clip5900)\" style=\"stroke:#000000; stroke-width:1; stroke-opacity:1; fill:none\" points=\"\n",
       "  70.8532,45.7556 78.4952,45.7556 \n",
       "  \"/>\n",
       "<g clip-path=\"url(#clip5900)\">\n",
       "<text style=\"fill:#000000; fill-opacity:1; font-family:Arial,Helvetica Neue,Helvetica,sans-serif; font-size:12; text-anchor:middle;\" transform=\"rotate(0, 84.0938, 389.669)\" x=\"84.0938\" y=\"389.669\">-10</text>\n",
       "</g>\n",
       "<g clip-path=\"url(#clip5900)\">\n",
       "<text style=\"fill:#000000; fill-opacity:1; font-family:Arial,Helvetica Neue,Helvetica,sans-serif; font-size:12; text-anchor:middle;\" transform=\"rotate(0, 204.736, 389.669)\" x=\"204.736\" y=\"389.669\">-5</text>\n",
       "</g>\n",
       "<g clip-path=\"url(#clip5900)\">\n",
       "<text style=\"fill:#000000; fill-opacity:1; font-family:Arial,Helvetica Neue,Helvetica,sans-serif; font-size:12; text-anchor:middle;\" transform=\"rotate(0, 325.378, 389.669)\" x=\"325.378\" y=\"389.669\">0</text>\n",
       "</g>\n",
       "<g clip-path=\"url(#clip5900)\">\n",
       "<text style=\"fill:#000000; fill-opacity:1; font-family:Arial,Helvetica Neue,Helvetica,sans-serif; font-size:12; text-anchor:middle;\" transform=\"rotate(0, 446.021, 389.669)\" x=\"446.021\" y=\"389.669\">5</text>\n",
       "</g>\n",
       "<g clip-path=\"url(#clip5900)\">\n",
       "<text style=\"fill:#000000; fill-opacity:1; font-family:Arial,Helvetica Neue,Helvetica,sans-serif; font-size:12; text-anchor:middle;\" transform=\"rotate(0, 566.663, 389.669)\" x=\"566.663\" y=\"389.669\">10</text>\n",
       "</g>\n",
       "<g clip-path=\"url(#clip5900)\">\n",
       "<text style=\"fill:#000000; fill-opacity:1; font-family:Arial,Helvetica Neue,Helvetica,sans-serif; font-size:12; text-anchor:start;\" transform=\"rotate(0, 25.2903, 374.628)\" x=\"25.2903\" y=\"374.628\">-</text>\n",
       "</g>\n",
       "<g clip-path=\"url(#clip5900)\">\n",
       "<text style=\"fill:#000000; fill-opacity:1; font-family:Arial,Helvetica Neue,Helvetica,sans-serif; font-size:12; text-anchor:start;\" transform=\"rotate(0, 32.3179, 374.628)\" x=\"32.3179\" y=\"374.628\">1×10</text>\n",
       "</g>\n",
       "<g clip-path=\"url(#clip5900)\">\n",
       "<text style=\"fill:#000000; fill-opacity:1; font-family:Arial,Helvetica Neue,Helvetica,sans-serif; font-size:10; text-anchor:start;\" transform=\"rotate(0, 59.4171, 367.775)\" x=\"59.4171\" y=\"367.775\">4</text>\n",
       "</g>\n",
       "<g clip-path=\"url(#clip5900)\">\n",
       "<text style=\"fill:#000000; fill-opacity:1; font-family:Arial,Helvetica Neue,Helvetica,sans-serif; font-size:12; text-anchor:start;\" transform=\"rotate(0, 25.2903, 293.893)\" x=\"25.2903\" y=\"293.893\">-</text>\n",
       "</g>\n",
       "<g clip-path=\"url(#clip5900)\">\n",
       "<text style=\"fill:#000000; fill-opacity:1; font-family:Arial,Helvetica Neue,Helvetica,sans-serif; font-size:12; text-anchor:start;\" transform=\"rotate(0, 32.3179, 293.893)\" x=\"32.3179\" y=\"293.893\">5×10</text>\n",
       "</g>\n",
       "<g clip-path=\"url(#clip5900)\">\n",
       "<text style=\"fill:#000000; fill-opacity:1; font-family:Arial,Helvetica Neue,Helvetica,sans-serif; font-size:10; text-anchor:start;\" transform=\"rotate(0, 59.4171, 287.04)\" x=\"59.4171\" y=\"287.04\">3</text>\n",
       "</g>\n",
       "<g clip-path=\"url(#clip5900)\">\n",
       "<text style=\"fill:#000000; fill-opacity:1; font-family:Arial,Helvetica Neue,Helvetica,sans-serif; font-size:12; text-anchor:end;\" transform=\"rotate(0, 64.8532, 211.726)\" x=\"64.8532\" y=\"211.726\">0</text>\n",
       "</g>\n",
       "<g clip-path=\"url(#clip5900)\">\n",
       "<text style=\"fill:#000000; fill-opacity:1; font-family:Arial,Helvetica Neue,Helvetica,sans-serif; font-size:12; text-anchor:start;\" transform=\"rotate(0, 32.3179, 132.423)\" x=\"32.3179\" y=\"132.423\">5×10</text>\n",
       "</g>\n",
       "<g clip-path=\"url(#clip5900)\">\n",
       "<text style=\"fill:#000000; fill-opacity:1; font-family:Arial,Helvetica Neue,Helvetica,sans-serif; font-size:10; text-anchor:start;\" transform=\"rotate(0, 59.4171, 125.57)\" x=\"59.4171\" y=\"125.57\">3</text>\n",
       "</g>\n",
       "<g clip-path=\"url(#clip5900)\">\n",
       "<text style=\"fill:#000000; fill-opacity:1; font-family:Arial,Helvetica Neue,Helvetica,sans-serif; font-size:12; text-anchor:start;\" transform=\"rotate(0, 32.3179, 51.6875)\" x=\"32.3179\" y=\"51.6875\">1×10</text>\n",
       "</g>\n",
       "<g clip-path=\"url(#clip5900)\">\n",
       "<text style=\"fill:#000000; fill-opacity:1; font-family:Arial,Helvetica Neue,Helvetica,sans-serif; font-size:10; text-anchor:start;\" transform=\"rotate(0, 59.4171, 44.8349)\" x=\"59.4171\" y=\"44.8349\">4</text>\n",
       "</g>\n",
       "<polyline clip-path=\"url(#clip5902)\" style=\"stroke:#000000; stroke-width:1.5; stroke-opacity:1; fill:none\" points=\"\n",
       "  85.272,365.565 86.4501,362.48 87.6283,359.44 88.8065,356.446 94.2534,343.17 99.7004,330.801 105.147,319.295 110.594,308.613 116.041,298.713 121.488,289.556 \n",
       "  126.935,281.105 132.382,273.321 138.929,264.799 145.476,257.129 152.022,250.252 158.569,244.111 169.64,235.252 180.71,228.093 192.736,221.973 204.761,217.309 \n",
       "  215.848,214.082 226.934,211.7 250.706,208.706 278.248,207.459 302.724,207.232 324.188,207.21 347.588,207.197 371.128,207.327 397.155,208.174 421.918,210.481 \n",
       "  447.666,215.314 469.341,221.389 482.572,225.413 495.803,228.551 502.022,229.201 508.24,228.909 511.35,228.282 514.459,227.248 517.568,225.732 520.678,223.647 \n",
       "  525.659,218.866 530.641,211.873 533.132,207.362 535.622,202.059 538.113,195.865 540.604,188.669 543.095,180.35 545.585,170.77 548.076,159.779 550.567,147.208 \n",
       "  553.058,132.87 555.548,116.558 558.039,98.0398 560.53,77.0607 561.296,70.0648 562.063,62.8003 562.83,55.2577 563.596,47.4278 564.363,39.3008 565.13,30.8665 \n",
       "  565.896,22.1145 \n",
       "  \"/>\n",
       "<polyline clip-path=\"url(#clip5902)\" style=\"stroke:#000000; stroke-width:1.5; stroke-opacity:1; fill:none\" stroke-dasharray=\"8, 5\" points=\"\n",
       "  88.8065,207.226 132.382,207.226 158.569,207.226 180.71,207.226 204.761,207.226 226.934,207.226 250.706,207.226 278.248,207.226 302.724,207.226 324.188,207.226 \n",
       "  347.588,207.226 371.128,207.226 397.155,207.226 421.918,207.226 447.666,207.226 469.341,207.226 495.803,207.226 520.678,207.226 560.53,207.226 \n",
       "  \"/>\n",
       "</svg>\n"
      ]
     },
     "execution_count": 377,
     "metadata": {},
     "output_type": "execute_result"
    }
   ],
   "source": [
    "f(x) = exp(x) - x^4\n",
    "bound = 10\n",
    "plot(f,-bound,bound,label=\"\",color=\"black\",lw=1.5,grid=false)\n",
    "plot!(zero,-bound,bound,label=\"\",color=\"black\",lw=1.5,grid=false,linestyle=:dash)"
   ]
  },
  {
   "cell_type": "markdown",
   "metadata": {},
   "source": [
    "### Finding zeros using ${\\tt sm}$ function:"
   ]
  },
  {
   "cell_type": "code",
   "execution_count": 378,
   "metadata": {},
   "outputs": [
    {
     "name": "stdout",
     "output_type": "stream",
     "text": [
      "Any[9.34856, 8.30321, 8.46741, 8.65636, 8.60804, 8.613, 8.61317, 8.61317, 8.61317, 8.61317, 8.61317]\n",
      "\n",
      "Eval. at zero found:\n",
      "1.8189894035458565e-12\n"
     ]
    }
   ],
   "source": [
    "ansArr = sm(7.9,8.0,f,30)\n",
    "println(ansArr, \"\\n\\n\", \"Eval. at zero found:\\n\", f(ansArr[end]))"
   ]
  },
  {
   "cell_type": "markdown",
   "metadata": {},
   "source": [
    "## Function 3 (Newton Baffler): \n",
    "Let $m=1$, $b=\\frac{1}{2}$\n",
    "\n",
    "$\n",
    "f(x) = \\left\\{\n",
    "        \\begin{array}{ll}\n",
    "            2mx & \\quad -b < x < b \\\\\n",
    "            2mb + m(x-b)& \\quad x > b \\\\\n",
    "            -2mb + m(x+b) & \\quad x < -b\n",
    "        \\end{array}\n",
    "    \\right.\n",
    "$\n",
    "\n",
    "\n",
    "$x_0,x_1 = (-1,\\frac{3}{4})$\n",
    "\n",
    "Plotted below:"
   ]
  },
  {
   "cell_type": "code",
   "execution_count": 379,
   "metadata": {},
   "outputs": [
    {
     "data": {
      "image/svg+xml": [
       "<?xml version=\"1.0\" encoding=\"utf-8\"?>\n",
       "<svg xmlns=\"http://www.w3.org/2000/svg\" xmlns:xlink=\"http://www.w3.org/1999/xlink\" width=\"600\" height=\"400\" viewBox=\"0 0 600 400\">\n",
       "<defs>\n",
       "  <clipPath id=\"clip6100\">\n",
       "    <rect x=\"0\" y=\"0\" width=\"600\" height=\"400\"/>\n",
       "  </clipPath>\n",
       "</defs>\n",
       "<polygon clip-path=\"url(#clip6100)\" points=\"\n",
       "0,400 600,400 600,0 0,0 \n",
       "  \" fill=\"#ffffff\" fill-opacity=\"1\"/>\n",
       "<defs>\n",
       "  <clipPath id=\"clip6101\">\n",
       "    <rect x=\"120\" y=\"0\" width=\"421\" height=\"400\"/>\n",
       "  </clipPath>\n",
       "</defs>\n",
       "<polygon clip-path=\"url(#clip6100)\" points=\"\n",
       "37.3402,375.869 580.315,375.869 580.315,11.811 37.3402,11.811 \n",
       "  \" fill=\"#ffffff\" fill-opacity=\"1\"/>\n",
       "<defs>\n",
       "  <clipPath id=\"clip6102\">\n",
       "    <rect x=\"37\" y=\"11\" width=\"544\" height=\"365\"/>\n",
       "  </clipPath>\n",
       "</defs>\n",
       "<polyline clip-path=\"url(#clip6100)\" style=\"stroke:#000000; stroke-width:1; stroke-opacity:1; fill:none\" points=\"\n",
       "  37.3402,375.869 580.315,375.869 \n",
       "  \"/>\n",
       "<polyline clip-path=\"url(#clip6100)\" style=\"stroke:#000000; stroke-width:1; stroke-opacity:1; fill:none\" points=\"\n",
       "  37.3402,375.869 37.3402,11.811 \n",
       "  \"/>\n",
       "<polyline clip-path=\"url(#clip6100)\" style=\"stroke:#000000; stroke-width:1; stroke-opacity:1; fill:none\" points=\"\n",
       "  47.5899,375.869 47.5899,370.408 \n",
       "  \"/>\n",
       "<polyline clip-path=\"url(#clip6100)\" style=\"stroke:#000000; stroke-width:1; stroke-opacity:1; fill:none\" points=\"\n",
       "  134.926,375.869 134.926,370.408 \n",
       "  \"/>\n",
       "<polyline clip-path=\"url(#clip6100)\" style=\"stroke:#000000; stroke-width:1; stroke-opacity:1; fill:none\" points=\"\n",
       "  222.262,375.869 222.262,370.408 \n",
       "  \"/>\n",
       "<polyline clip-path=\"url(#clip6100)\" style=\"stroke:#000000; stroke-width:1; stroke-opacity:1; fill:none\" points=\"\n",
       "  309.599,375.869 309.599,370.408 \n",
       "  \"/>\n",
       "<polyline clip-path=\"url(#clip6100)\" style=\"stroke:#000000; stroke-width:1; stroke-opacity:1; fill:none\" points=\"\n",
       "  396.935,375.869 396.935,370.408 \n",
       "  \"/>\n",
       "<polyline clip-path=\"url(#clip6100)\" style=\"stroke:#000000; stroke-width:1; stroke-opacity:1; fill:none\" points=\"\n",
       "  484.271,375.869 484.271,370.408 \n",
       "  \"/>\n",
       "<polyline clip-path=\"url(#clip6100)\" style=\"stroke:#000000; stroke-width:1; stroke-opacity:1; fill:none\" points=\"\n",
       "  571.608,375.869 571.608,370.408 \n",
       "  \"/>\n",
       "<polyline clip-path=\"url(#clip6100)\" style=\"stroke:#000000; stroke-width:1; stroke-opacity:1; fill:none\" points=\"\n",
       "  37.3402,343.482 45.4848,343.482 \n",
       "  \"/>\n",
       "<polyline clip-path=\"url(#clip6100)\" style=\"stroke:#000000; stroke-width:1; stroke-opacity:1; fill:none\" points=\"\n",
       "  37.3402,293.454 45.4848,293.454 \n",
       "  \"/>\n",
       "<polyline clip-path=\"url(#clip6100)\" style=\"stroke:#000000; stroke-width:1; stroke-opacity:1; fill:none\" points=\"\n",
       "  37.3402,243.426 45.4848,243.426 \n",
       "  \"/>\n",
       "<polyline clip-path=\"url(#clip6100)\" style=\"stroke:#000000; stroke-width:1; stroke-opacity:1; fill:none\" points=\"\n",
       "  37.3402,193.398 45.4848,193.398 \n",
       "  \"/>\n",
       "<polyline clip-path=\"url(#clip6100)\" style=\"stroke:#000000; stroke-width:1; stroke-opacity:1; fill:none\" points=\"\n",
       "  37.3402,143.37 45.4848,143.37 \n",
       "  \"/>\n",
       "<polyline clip-path=\"url(#clip6100)\" style=\"stroke:#000000; stroke-width:1; stroke-opacity:1; fill:none\" points=\"\n",
       "  37.3402,93.3418 45.4848,93.3418 \n",
       "  \"/>\n",
       "<polyline clip-path=\"url(#clip6100)\" style=\"stroke:#000000; stroke-width:1; stroke-opacity:1; fill:none\" points=\"\n",
       "  37.3402,43.3137 45.4848,43.3137 \n",
       "  \"/>\n",
       "<g clip-path=\"url(#clip6100)\">\n",
       "<text style=\"fill:#000000; fill-opacity:1; font-family:Arial,Helvetica Neue,Helvetica,sans-serif; font-size:12; text-anchor:middle;\" transform=\"rotate(0, 47.5899, 389.669)\" x=\"47.5899\" y=\"389.669\">-3</text>\n",
       "</g>\n",
       "<g clip-path=\"url(#clip6100)\">\n",
       "<text style=\"fill:#000000; fill-opacity:1; font-family:Arial,Helvetica Neue,Helvetica,sans-serif; font-size:12; text-anchor:middle;\" transform=\"rotate(0, 134.926, 389.669)\" x=\"134.926\" y=\"389.669\">-2</text>\n",
       "</g>\n",
       "<g clip-path=\"url(#clip6100)\">\n",
       "<text style=\"fill:#000000; fill-opacity:1; font-family:Arial,Helvetica Neue,Helvetica,sans-serif; font-size:12; text-anchor:middle;\" transform=\"rotate(0, 222.262, 389.669)\" x=\"222.262\" y=\"389.669\">-1</text>\n",
       "</g>\n",
       "<g clip-path=\"url(#clip6100)\">\n",
       "<text style=\"fill:#000000; fill-opacity:1; font-family:Arial,Helvetica Neue,Helvetica,sans-serif; font-size:12; text-anchor:middle;\" transform=\"rotate(0, 309.599, 389.669)\" x=\"309.599\" y=\"389.669\">0</text>\n",
       "</g>\n",
       "<g clip-path=\"url(#clip6100)\">\n",
       "<text style=\"fill:#000000; fill-opacity:1; font-family:Arial,Helvetica Neue,Helvetica,sans-serif; font-size:12; text-anchor:middle;\" transform=\"rotate(0, 396.935, 389.669)\" x=\"396.935\" y=\"389.669\">1</text>\n",
       "</g>\n",
       "<g clip-path=\"url(#clip6100)\">\n",
       "<text style=\"fill:#000000; fill-opacity:1; font-family:Arial,Helvetica Neue,Helvetica,sans-serif; font-size:12; text-anchor:middle;\" transform=\"rotate(0, 484.271, 389.669)\" x=\"484.271\" y=\"389.669\">2</text>\n",
       "</g>\n",
       "<g clip-path=\"url(#clip6100)\">\n",
       "<text style=\"fill:#000000; fill-opacity:1; font-family:Arial,Helvetica Neue,Helvetica,sans-serif; font-size:12; text-anchor:middle;\" transform=\"rotate(0, 571.608, 389.669)\" x=\"571.608\" y=\"389.669\">3</text>\n",
       "</g>\n",
       "<g clip-path=\"url(#clip6100)\">\n",
       "<text style=\"fill:#000000; fill-opacity:1; font-family:Arial,Helvetica Neue,Helvetica,sans-serif; font-size:12; text-anchor:end;\" transform=\"rotate(0, 31.3402, 347.982)\" x=\"31.3402\" y=\"347.982\">-3</text>\n",
       "</g>\n",
       "<g clip-path=\"url(#clip6100)\">\n",
       "<text style=\"fill:#000000; fill-opacity:1; font-family:Arial,Helvetica Neue,Helvetica,sans-serif; font-size:12; text-anchor:end;\" transform=\"rotate(0, 31.3402, 297.954)\" x=\"31.3402\" y=\"297.954\">-2</text>\n",
       "</g>\n",
       "<g clip-path=\"url(#clip6100)\">\n",
       "<text style=\"fill:#000000; fill-opacity:1; font-family:Arial,Helvetica Neue,Helvetica,sans-serif; font-size:12; text-anchor:end;\" transform=\"rotate(0, 31.3402, 247.926)\" x=\"31.3402\" y=\"247.926\">-1</text>\n",
       "</g>\n",
       "<g clip-path=\"url(#clip6100)\">\n",
       "<text style=\"fill:#000000; fill-opacity:1; font-family:Arial,Helvetica Neue,Helvetica,sans-serif; font-size:12; text-anchor:end;\" transform=\"rotate(0, 31.3402, 197.898)\" x=\"31.3402\" y=\"197.898\">0</text>\n",
       "</g>\n",
       "<g clip-path=\"url(#clip6100)\">\n",
       "<text style=\"fill:#000000; fill-opacity:1; font-family:Arial,Helvetica Neue,Helvetica,sans-serif; font-size:12; text-anchor:end;\" transform=\"rotate(0, 31.3402, 147.87)\" x=\"31.3402\" y=\"147.87\">1</text>\n",
       "</g>\n",
       "<g clip-path=\"url(#clip6100)\">\n",
       "<text style=\"fill:#000000; fill-opacity:1; font-family:Arial,Helvetica Neue,Helvetica,sans-serif; font-size:12; text-anchor:end;\" transform=\"rotate(0, 31.3402, 97.8418)\" x=\"31.3402\" y=\"97.8418\">2</text>\n",
       "</g>\n",
       "<g clip-path=\"url(#clip6100)\">\n",
       "<text style=\"fill:#000000; fill-opacity:1; font-family:Arial,Helvetica Neue,Helvetica,sans-serif; font-size:12; text-anchor:end;\" transform=\"rotate(0, 31.3402, 47.8137)\" x=\"31.3402\" y=\"47.8137\">3</text>\n",
       "</g>\n",
       "<polyline clip-path=\"url(#clip6102)\" style=\"stroke:#000000; stroke-width:1.5; stroke-opacity:1; fill:none\" points=\"\n",
       "  52.7074,365.565 100.026,338.46 128.462,322.171 152.505,308.399 178.622,293.439 202.699,279.647 215.606,272.253 228.513,264.86 243.467,256.294 258.42,247.728 \n",
       "  265.065,243.922 271.71,236.806 278.354,229.193 284.999,221.581 296.652,208.23 308.306,194.88 321.011,180.324 333.716,165.768 340.107,158.447 346.497,151.126 \n",
       "  352.888,143.804 359.278,139.927 373.409,131.832 387.54,123.738 400.985,116.036 414.43,108.334 442.39,92.3183 465.926,78.8363 494.661,62.3762 521.673,46.9033 \n",
       "  564.948,22.1145 \n",
       "  \"/>\n",
       "<polyline clip-path=\"url(#clip6102)\" style=\"stroke:#000000; stroke-width:1.5; stroke-opacity:1; fill:none\" stroke-dasharray=\"8, 5\" points=\"\n",
       "  52.7074,193.398 100.026,193.398 128.462,193.398 152.505,193.398 178.622,193.398 202.699,193.398 228.513,193.398 258.42,193.398 284.999,193.398 308.306,193.398 \n",
       "  333.716,193.398 359.278,193.398 387.54,193.398 414.43,193.398 442.39,193.398 465.926,193.398 494.661,193.398 521.673,193.398 564.948,193.398 \n",
       "  \"/>\n",
       "</svg>\n"
      ]
     },
     "execution_count": 379,
     "metadata": {},
     "output_type": "execute_result"
    }
   ],
   "source": [
    "function nBaffler(x, m = 1, b = 1/2)\n",
    "    if(-b<x<b) return 2*m*x end\n",
    "    if(x>b) return 2*m*b + m*(x-b) end\n",
    "    if(x<-b) return -2*m*b + m*(x+b) end\n",
    "end\n",
    "\n",
    "bound = 3\n",
    "plot(nBaffler,-bound,bound,label=\"\",color=\"black\",lw=1.5,grid=false)\n",
    "plot!(zero,-bound,bound,label=\"\",color=\"black\",lw=1.5,grid=false,linestyle=:dash)"
   ]
  },
  {
   "cell_type": "markdown",
   "metadata": {},
   "source": [
    "### Finding zeros using ${\\tt sm}$ function:"
   ]
  },
  {
   "cell_type": "code",
   "execution_count": 380,
   "metadata": {},
   "outputs": [
    {
     "data": {
      "text/plain": [
       "4-element Array{Any,1}:\n",
       " -0.0454545 \n",
       "  0.00847458\n",
       "  0.0       \n",
       "  0.0       "
      ]
     },
     "execution_count": 380,
     "metadata": {},
     "output_type": "execute_result"
    }
   ],
   "source": [
    "sm(-1,3/4,nBaffler,30)"
   ]
  },
  {
   "cell_type": "code",
   "execution_count": null,
   "metadata": {},
   "outputs": [],
   "source": []
  }
 ],
 "metadata": {
  "kernelspec": {
   "display_name": "Julia 0.6.2",
   "language": "julia",
   "name": "julia-0.6"
  },
  "language_info": {
   "file_extension": ".jl",
   "mimetype": "application/julia",
   "name": "julia",
   "version": "0.6.2"
  }
 },
 "nbformat": 4,
 "nbformat_minor": 2
}
