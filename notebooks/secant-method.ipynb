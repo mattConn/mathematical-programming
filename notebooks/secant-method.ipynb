{
 "cells": [
  {
   "cell_type": "code",
   "execution_count": 7,
   "metadata": {},
   "outputs": [],
   "source": [
    "using Plots"
   ]
  },
  {
   "cell_type": "code",
   "execution_count": 159,
   "metadata": {},
   "outputs": [
    {
     "data": {
      "text/plain": [
       "sm (generic function with 3 methods)"
      ]
     },
     "execution_count": 159,
     "metadata": {},
     "output_type": "execute_result"
    }
   ],
   "source": [
    "# secant method zero finder\n",
    "function sm(x0, x1, f, max_iter = 10)\n",
    "    # current and next x\n",
    "    current = x0\n",
    "    next = x1\n",
    "    intersection = 0 # line intersection with x-axis\n",
    "    \n",
    "    # store intersections\n",
    "    xArr = []\n",
    "    \n",
    "    # finding intersection\n",
    "    iterations = 0\n",
    "    \n",
    "    while(iterations < max_iter)\n",
    "        intersection = next - ( next - current )/( f(next) - f(current) ) * f(next)\n",
    "\n",
    "        # check for NaN\n",
    "        isnan(intersection) ? break :\n",
    "        \n",
    "        # save intersection\n",
    "        push!(xArr, intersection)\n",
    "        \n",
    "        # set next x's\n",
    "        current = next\n",
    "        next = intersection\n",
    "        \n",
    "        \n",
    "        iterations += 1\n",
    "    end\n",
    "    \n",
    "    return xArr # return intersections\n",
    "end"
   ]
  },
  {
   "cell_type": "code",
   "execution_count": 164,
   "metadata": {},
   "outputs": [
    {
     "data": {
      "text/plain": [
       "8-element Array{Any,1}:\n",
       " -1.75   \n",
       " -2.09091\n",
       " -1.99408\n",
       " -1.99987\n",
       " -2.0    \n",
       " -2.0    \n",
       " -2.0    \n",
       " -2.0    "
      ]
     },
     "execution_count": 164,
     "metadata": {},
     "output_type": "execute_result"
    }
   ],
   "source": [
    "# sm function test\n",
    "f(x) = x^2 - 4\n",
    "sm(-3,-1,f)"
   ]
  },
  {
   "cell_type": "code",
   "execution_count": 163,
   "metadata": {},
   "outputs": [
    {
     "name": "stdout",
     "output_type": "stream",
     "text": [
      "1.0333333333333332\n",
      "1.0610227672598425\n",
      "1.2038724868458948\n",
      "1.1593023616084683\n",
      "1.1667590375955519\n",
      "1.1673124276984614\n",
      "1.1673039694149607\n",
      "1.167303978261275\n",
      "1.1673039782614187\n",
      "1.1673039782614187\n"
     ]
    }
   ],
   "source": [
    "f(x) = x^5 - x - 1\n",
    "bound = 2\n",
    "plot(f,-bound,bound,label=\"\",color=\"black\",lw=1.5,grid=false)\n",
    "plot!(zero,-bound,bound,label=\"\",color=\"black\",lw=1.5,grid=false,linestyle=:dash)\n",
    "\n",
    "for i in sm(1,2,f,20) println(i) end\n",
    "# f(1.1673039782614187)"
   ]
  },
  {
   "cell_type": "code",
   "execution_count": 4,
   "metadata": {},
   "outputs": [
    {
     "data": {
      "text/plain": [
       "-1.7034600659923511"
      ]
     },
     "execution_count": 4,
     "metadata": {},
     "output_type": "execute_result"
    }
   ],
   "source": [
    "sm(0.5,1.5,f)"
   ]
  },
  {
   "cell_type": "code",
   "execution_count": 5,
   "metadata": {},
   "outputs": [
    {
     "data": {
      "image/svg+xml": [
       "<?xml version=\"1.0\" encoding=\"utf-8\"?>\n",
       "<svg xmlns=\"http://www.w3.org/2000/svg\" xmlns:xlink=\"http://www.w3.org/1999/xlink\" width=\"600\" height=\"400\" viewBox=\"0 0 600 400\">\n",
       "<defs>\n",
       "  <clipPath id=\"clip8100\">\n",
       "    <rect x=\"0\" y=\"0\" width=\"600\" height=\"400\"/>\n",
       "  </clipPath>\n",
       "</defs>\n",
       "<polygon clip-path=\"url(#clip8100)\" points=\"\n",
       "0,400 600,400 600,0 0,0 \n",
       "  \" fill=\"#ffffff\" fill-opacity=\"1\"/>\n",
       "<defs>\n",
       "  <clipPath id=\"clip8101\">\n",
       "    <rect x=\"120\" y=\"0\" width=\"421\" height=\"400\"/>\n",
       "  </clipPath>\n",
       "</defs>\n",
       "<polygon clip-path=\"url(#clip8100)\" points=\"\n",
       "70.8532,375.869 580.315,375.869 580.315,11.811 70.8532,11.811 \n",
       "  \" fill=\"#ffffff\" fill-opacity=\"1\"/>\n",
       "<defs>\n",
       "  <clipPath id=\"clip8102\">\n",
       "    <rect x=\"70\" y=\"11\" width=\"510\" height=\"365\"/>\n",
       "  </clipPath>\n",
       "</defs>\n",
       "<polyline clip-path=\"url(#clip8100)\" style=\"stroke:#000000; stroke-width:1; stroke-opacity:1; fill:none\" points=\"\n",
       "  70.8532,375.869 580.315,375.869 \n",
       "  \"/>\n",
       "<polyline clip-path=\"url(#clip8100)\" style=\"stroke:#000000; stroke-width:1; stroke-opacity:1; fill:none\" points=\"\n",
       "  70.8532,375.869 70.8532,11.811 \n",
       "  \"/>\n",
       "<polyline clip-path=\"url(#clip8100)\" style=\"stroke:#000000; stroke-width:1; stroke-opacity:1; fill:none\" points=\"\n",
       "  84.0938,375.869 84.0938,370.408 \n",
       "  \"/>\n",
       "<polyline clip-path=\"url(#clip8100)\" style=\"stroke:#000000; stroke-width:1; stroke-opacity:1; fill:none\" points=\"\n",
       "  204.736,375.869 204.736,370.408 \n",
       "  \"/>\n",
       "<polyline clip-path=\"url(#clip8100)\" style=\"stroke:#000000; stroke-width:1; stroke-opacity:1; fill:none\" points=\"\n",
       "  325.378,375.869 325.378,370.408 \n",
       "  \"/>\n",
       "<polyline clip-path=\"url(#clip8100)\" style=\"stroke:#000000; stroke-width:1; stroke-opacity:1; fill:none\" points=\"\n",
       "  446.021,375.869 446.021,370.408 \n",
       "  \"/>\n",
       "<polyline clip-path=\"url(#clip8100)\" style=\"stroke:#000000; stroke-width:1; stroke-opacity:1; fill:none\" points=\"\n",
       "  566.663,375.869 566.663,370.408 \n",
       "  \"/>\n",
       "<polyline clip-path=\"url(#clip8100)\" style=\"stroke:#000000; stroke-width:1; stroke-opacity:1; fill:none\" points=\"\n",
       "  70.8532,368.696 78.4952,368.696 \n",
       "  \"/>\n",
       "<polyline clip-path=\"url(#clip8100)\" style=\"stroke:#000000; stroke-width:1; stroke-opacity:1; fill:none\" points=\"\n",
       "  70.8532,287.961 78.4952,287.961 \n",
       "  \"/>\n",
       "<polyline clip-path=\"url(#clip8100)\" style=\"stroke:#000000; stroke-width:1; stroke-opacity:1; fill:none\" points=\"\n",
       "  70.8532,207.226 78.4952,207.226 \n",
       "  \"/>\n",
       "<polyline clip-path=\"url(#clip8100)\" style=\"stroke:#000000; stroke-width:1; stroke-opacity:1; fill:none\" points=\"\n",
       "  70.8532,126.491 78.4952,126.491 \n",
       "  \"/>\n",
       "<polyline clip-path=\"url(#clip8100)\" style=\"stroke:#000000; stroke-width:1; stroke-opacity:1; fill:none\" points=\"\n",
       "  70.8532,45.7556 78.4952,45.7556 \n",
       "  \"/>\n",
       "<g clip-path=\"url(#clip8100)\">\n",
       "<text style=\"fill:#000000; fill-opacity:1; font-family:Arial,Helvetica Neue,Helvetica,sans-serif; font-size:12; text-anchor:middle;\" transform=\"rotate(0, 84.0938, 389.669)\" x=\"84.0938\" y=\"389.669\">-10</text>\n",
       "</g>\n",
       "<g clip-path=\"url(#clip8100)\">\n",
       "<text style=\"fill:#000000; fill-opacity:1; font-family:Arial,Helvetica Neue,Helvetica,sans-serif; font-size:12; text-anchor:middle;\" transform=\"rotate(0, 204.736, 389.669)\" x=\"204.736\" y=\"389.669\">-5</text>\n",
       "</g>\n",
       "<g clip-path=\"url(#clip8100)\">\n",
       "<text style=\"fill:#000000; fill-opacity:1; font-family:Arial,Helvetica Neue,Helvetica,sans-serif; font-size:12; text-anchor:middle;\" transform=\"rotate(0, 325.378, 389.669)\" x=\"325.378\" y=\"389.669\">0</text>\n",
       "</g>\n",
       "<g clip-path=\"url(#clip8100)\">\n",
       "<text style=\"fill:#000000; fill-opacity:1; font-family:Arial,Helvetica Neue,Helvetica,sans-serif; font-size:12; text-anchor:middle;\" transform=\"rotate(0, 446.021, 389.669)\" x=\"446.021\" y=\"389.669\">5</text>\n",
       "</g>\n",
       "<g clip-path=\"url(#clip8100)\">\n",
       "<text style=\"fill:#000000; fill-opacity:1; font-family:Arial,Helvetica Neue,Helvetica,sans-serif; font-size:12; text-anchor:middle;\" transform=\"rotate(0, 566.663, 389.669)\" x=\"566.663\" y=\"389.669\">10</text>\n",
       "</g>\n",
       "<g clip-path=\"url(#clip8100)\">\n",
       "<text style=\"fill:#000000; fill-opacity:1; font-family:Arial,Helvetica Neue,Helvetica,sans-serif; font-size:12; text-anchor:start;\" transform=\"rotate(0, 25.2903, 374.628)\" x=\"25.2903\" y=\"374.628\">-</text>\n",
       "</g>\n",
       "<g clip-path=\"url(#clip8100)\">\n",
       "<text style=\"fill:#000000; fill-opacity:1; font-family:Arial,Helvetica Neue,Helvetica,sans-serif; font-size:12; text-anchor:start;\" transform=\"rotate(0, 32.3179, 374.628)\" x=\"32.3179\" y=\"374.628\">1×10</text>\n",
       "</g>\n",
       "<g clip-path=\"url(#clip8100)\">\n",
       "<text style=\"fill:#000000; fill-opacity:1; font-family:Arial,Helvetica Neue,Helvetica,sans-serif; font-size:10; text-anchor:start;\" transform=\"rotate(0, 59.4171, 367.775)\" x=\"59.4171\" y=\"367.775\">4</text>\n",
       "</g>\n",
       "<g clip-path=\"url(#clip8100)\">\n",
       "<text style=\"fill:#000000; fill-opacity:1; font-family:Arial,Helvetica Neue,Helvetica,sans-serif; font-size:12; text-anchor:start;\" transform=\"rotate(0, 25.2903, 293.893)\" x=\"25.2903\" y=\"293.893\">-</text>\n",
       "</g>\n",
       "<g clip-path=\"url(#clip8100)\">\n",
       "<text style=\"fill:#000000; fill-opacity:1; font-family:Arial,Helvetica Neue,Helvetica,sans-serif; font-size:12; text-anchor:start;\" transform=\"rotate(0, 32.3179, 293.893)\" x=\"32.3179\" y=\"293.893\">5×10</text>\n",
       "</g>\n",
       "<g clip-path=\"url(#clip8100)\">\n",
       "<text style=\"fill:#000000; fill-opacity:1; font-family:Arial,Helvetica Neue,Helvetica,sans-serif; font-size:10; text-anchor:start;\" transform=\"rotate(0, 59.4171, 287.04)\" x=\"59.4171\" y=\"287.04\">3</text>\n",
       "</g>\n",
       "<g clip-path=\"url(#clip8100)\">\n",
       "<text style=\"fill:#000000; fill-opacity:1; font-family:Arial,Helvetica Neue,Helvetica,sans-serif; font-size:12; text-anchor:end;\" transform=\"rotate(0, 64.8532, 211.726)\" x=\"64.8532\" y=\"211.726\">0</text>\n",
       "</g>\n",
       "<g clip-path=\"url(#clip8100)\">\n",
       "<text style=\"fill:#000000; fill-opacity:1; font-family:Arial,Helvetica Neue,Helvetica,sans-serif; font-size:12; text-anchor:start;\" transform=\"rotate(0, 32.3179, 132.423)\" x=\"32.3179\" y=\"132.423\">5×10</text>\n",
       "</g>\n",
       "<g clip-path=\"url(#clip8100)\">\n",
       "<text style=\"fill:#000000; fill-opacity:1; font-family:Arial,Helvetica Neue,Helvetica,sans-serif; font-size:10; text-anchor:start;\" transform=\"rotate(0, 59.4171, 125.57)\" x=\"59.4171\" y=\"125.57\">3</text>\n",
       "</g>\n",
       "<g clip-path=\"url(#clip8100)\">\n",
       "<text style=\"fill:#000000; fill-opacity:1; font-family:Arial,Helvetica Neue,Helvetica,sans-serif; font-size:12; text-anchor:start;\" transform=\"rotate(0, 32.3179, 51.6875)\" x=\"32.3179\" y=\"51.6875\">1×10</text>\n",
       "</g>\n",
       "<g clip-path=\"url(#clip8100)\">\n",
       "<text style=\"fill:#000000; fill-opacity:1; font-family:Arial,Helvetica Neue,Helvetica,sans-serif; font-size:10; text-anchor:start;\" transform=\"rotate(0, 59.4171, 44.8349)\" x=\"59.4171\" y=\"44.8349\">4</text>\n",
       "</g>\n",
       "<polyline clip-path=\"url(#clip8102)\" style=\"stroke:#000000; stroke-width:1.5; stroke-opacity:1; fill:none\" points=\"\n",
       "  85.272,365.565 86.4501,362.48 87.6283,359.44 88.8065,356.446 94.2534,343.17 99.7004,330.801 105.147,319.295 110.594,308.613 116.041,298.713 121.488,289.556 \n",
       "  126.935,281.105 132.382,273.321 138.929,264.799 145.476,257.129 152.022,250.252 158.569,244.111 169.64,235.252 180.71,228.093 192.736,221.973 204.761,217.309 \n",
       "  215.848,214.082 226.934,211.7 250.706,208.706 278.248,207.459 302.724,207.232 324.188,207.21 347.588,207.197 371.128,207.327 397.155,208.174 421.918,210.481 \n",
       "  447.666,215.314 469.341,221.389 482.572,225.413 495.803,228.551 502.022,229.201 508.24,228.909 511.35,228.282 514.459,227.248 517.568,225.732 520.678,223.647 \n",
       "  525.659,218.866 530.641,211.873 533.132,207.362 535.622,202.059 538.113,195.865 540.604,188.669 543.095,180.35 545.585,170.77 548.076,159.779 550.567,147.208 \n",
       "  553.058,132.87 555.548,116.558 558.039,98.0398 560.53,77.0607 561.296,70.0648 562.063,62.8003 562.83,55.2577 563.596,47.4278 564.363,39.3008 565.13,30.8665 \n",
       "  565.896,22.1145 \n",
       "  \"/>\n",
       "<polyline clip-path=\"url(#clip8102)\" style=\"stroke:#000000; stroke-width:1.5; stroke-opacity:1; fill:none\" stroke-dasharray=\"8, 5\" points=\"\n",
       "  88.8065,207.226 132.382,207.226 158.569,207.226 180.71,207.226 204.761,207.226 226.934,207.226 250.706,207.226 278.248,207.226 302.724,207.226 324.188,207.226 \n",
       "  347.588,207.226 371.128,207.226 397.155,207.226 421.918,207.226 447.666,207.226 469.341,207.226 495.803,207.226 520.678,207.226 560.53,207.226 \n",
       "  \"/>\n",
       "</svg>\n"
      ]
     },
     "execution_count": 5,
     "metadata": {},
     "output_type": "execute_result"
    }
   ],
   "source": [
    "f(x) = exp(x) - x^4\n",
    "bound = 10\n",
    "plot(f,-bound,bound,label=\"\",color=\"black\",lw=1.5,grid=false)\n",
    "plot!(zero,-bound,bound,label=\"\",color=\"black\",lw=1.5,grid=false,linestyle=:dash)"
   ]
  },
  {
   "cell_type": "code",
   "execution_count": 6,
   "metadata": {},
   "outputs": [
    {
     "ename": "LoadError",
     "evalue": "\u001b[91mMethodError: no method matching isfinite(::Void)\u001b[0m\nClosest candidates are:\n  isfinite(\u001b[91m::Missings.Missing\u001b[39m) at /Users/matthew/.julia/v0.6/Missings/src/Missings.jl:92\n  isfinite(\u001b[91m::BigFloat\u001b[39m) at mpfr.jl:831\n  isfinite(\u001b[91m::Float16\u001b[39m) at float.jl:539\n  ...\u001b[39m",
     "output_type": "error",
     "traceback": [
      "\u001b[91mMethodError: no method matching isfinite(::Void)\u001b[0m\nClosest candidates are:\n  isfinite(\u001b[91m::Missings.Missing\u001b[39m) at /Users/matthew/.julia/v0.6/Missings/src/Missings.jl:92\n  isfinite(\u001b[91m::BigFloat\u001b[39m) at mpfr.jl:831\n  isfinite(\u001b[91m::Float16\u001b[39m) at float.jl:539\n  ...\u001b[39m",
      "",
      "Stacktrace:",
      " [1] \u001b[1mmacro expansion\u001b[22m\u001b[22m at \u001b[1m./broadcast.jl:232\u001b[22m\u001b[22m [inlined]",
      " [2] \u001b[1m_broadcast!\u001b[22m\u001b[22m\u001b[1m(\u001b[22m\u001b[22m::Base.#isfinite, ::BitArray{1}, ::Tuple{Tuple{Bool}}, ::Tuple{Tuple{Int64}}, ::Tuple{Array{Any,1}}, ::Type{Val{1}}, ::CartesianRange{CartesianIndex{1}}, ::CartesianIndex{1}, ::Int64\u001b[1m)\u001b[22m\u001b[22m at \u001b[1m./broadcast.jl:219\u001b[22m\u001b[22m",
      " [3] \u001b[1mbroadcast_t\u001b[22m\u001b[22m\u001b[1m(\u001b[22m\u001b[22m::Function, ::Type{Any}, ::Tuple{Base.OneTo{Int64}}, ::CartesianRange{CartesianIndex{1}}, ::Array{Any,1}\u001b[1m)\u001b[22m\u001b[22m at \u001b[1m./broadcast.jl:265\u001b[22m\u001b[22m",
      " [4] \u001b[1mbroadcast_c\u001b[22m\u001b[22m at \u001b[1m./broadcast.jl:321\u001b[22m\u001b[22m [inlined]",
      " [5] \u001b[1mbroadcast\u001b[22m\u001b[22m at \u001b[1m./broadcast.jl:455\u001b[22m\u001b[22m [inlined]",
      " [6] \u001b[1m#adapted_grid#33\u001b[22m\u001b[22m\u001b[1m(\u001b[22m\u001b[22m::Int64, ::Function, ::#f, ::Tuple{Int64,Int64}\u001b[1m)\u001b[22m\u001b[22m at \u001b[1m/Users/matthew/.julia/v0.6/PlotUtils/src/adapted_grid.jl:47\u001b[22m\u001b[22m",
      " [7] \u001b[1mmacro expansion\u001b[22m\u001b[22m at \u001b[1m/Users/matthew/.julia/v0.6/Plots/src/series.jl:513\u001b[22m\u001b[22m [inlined]",
      " [8] \u001b[1mapply_recipe\u001b[22m\u001b[22m\u001b[1m(\u001b[22m\u001b[22m::Dict{Symbol,Any}, ::Function, ::Int64, ::Int64\u001b[1m)\u001b[22m\u001b[22m at \u001b[1m/Users/matthew/.julia/v0.6/RecipesBase/src/RecipesBase.jl:291\u001b[22m\u001b[22m",
      " [9] \u001b[1m_process_userrecipes\u001b[22m\u001b[22m\u001b[1m(\u001b[22m\u001b[22m::Plots.Plot{Plots.GRBackend}, ::Dict{Symbol,Any}, ::Tuple{#f,Int64,Int64}\u001b[1m)\u001b[22m\u001b[22m at \u001b[1m/Users/matthew/.julia/v0.6/Plots/src/pipeline.jl:81\u001b[22m\u001b[22m",
      " [10] \u001b[1m_plot!\u001b[22m\u001b[22m\u001b[1m(\u001b[22m\u001b[22m::Plots.Plot{Plots.GRBackend}, ::Dict{Symbol,Any}, ::Tuple{#f,Int64,Int64}\u001b[1m)\u001b[22m\u001b[22m at \u001b[1m/Users/matthew/.julia/v0.6/Plots/src/plot.jl:179\u001b[22m\u001b[22m",
      " [11] \u001b[1m#plot#212\u001b[22m\u001b[22m\u001b[1m(\u001b[22m\u001b[22m::Array{Any,1}, ::Function, ::Function, ::Vararg{Any,N} where N\u001b[1m)\u001b[22m\u001b[22m at \u001b[1m/Users/matthew/.julia/v0.6/Plots/src/plot.jl:58\u001b[22m\u001b[22m",
      " [12] \u001b[1m(::RecipesBase.#kw##plot)\u001b[22m\u001b[22m\u001b[1m(\u001b[22m\u001b[22m::Array{Any,1}, ::RecipesBase.#plot, ::Function, ::Int64, ::Vararg{Int64,N} where N\u001b[1m)\u001b[22m\u001b[22m at \u001b[1m./<missing>:0\u001b[22m\u001b[22m"
     ]
    }
   ],
   "source": [
    "function f(x)\n",
    "    \n",
    "end\n",
    "\n",
    "bound = 10\n",
    "plot(f,-bound,bound,label=\"\",color=\"black\",lw=1.5,grid=false)\n",
    "plot!(zero,-bound,bound,label=\"\",color=\"black\",lw=1.5,grid=false,linestyle=:dash)"
   ]
  }
 ],
 "metadata": {
  "kernelspec": {
   "display_name": "Julia 0.6.2",
   "language": "julia",
   "name": "julia-0.6"
  },
  "language_info": {
   "file_extension": ".jl",
   "mimetype": "application/julia",
   "name": "julia",
   "version": "0.6.2"
  }
 },
 "nbformat": 4,
 "nbformat_minor": 2
}
