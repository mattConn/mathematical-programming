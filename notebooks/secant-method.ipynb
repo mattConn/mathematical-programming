{
 "cells": [
  {
   "cell_type": "markdown",
   "metadata": {},
   "source": [
    "# MTH 335 Exam 1 Extra Credit\n",
    "### Write a computer function to find zeros using the secant method.\n",
    "The secant method finds zeros by calculating the intersection of a secant line with the $x$-axis. At the start of the algorithm, the secant line will be between $f(x_0)$ and $f(x_1)$. The $x$-axis intersection can then be calculated iteratively as follows (taking $x_n$ to mean $x_1$ on the first iteration):  \n",
    "\n",
    "$$\n",
    "x_{n+1} = x_n - \\frac{x_n - x_{n-1}}{f(x_n) - f(x_{n-1})} \\cdot f(x_n)\n",
    "$$"
   ]
  },
  {
   "cell_type": "code",
   "execution_count": 86,
   "metadata": {},
   "outputs": [],
   "source": [
    "using Plots"
   ]
  },
  {
   "cell_type": "markdown",
   "metadata": {},
   "source": [
    "## Secant Method Function ${\\tt sm}$\n",
    "The following is a secant method function definition.  \n",
    "It will accept an initial $x_0$ and $x_1$, as well as a function and an optional integer argument that may denote a maximum number of iterations for the algorithm."
   ]
  },
  {
   "cell_type": "code",
   "execution_count": 87,
   "metadata": {},
   "outputs": [
    {
     "data": {
      "text/plain": [
       "sm (generic function with 4 methods)"
      ]
     },
     "execution_count": 87,
     "metadata": {},
     "output_type": "execute_result"
    }
   ],
   "source": [
    "# secant method zero finder\n",
    "function sm(x0, x1, f, max_iter::Int64 = 10)\n",
    "    # current and next x\n",
    "    current = x0\n",
    "    next = x1\n",
    "    intersection = 0 # line intersection with x-axis\n",
    "    \n",
    "    # store intersections\n",
    "    xArr = []\n",
    "    \n",
    "    # finding intersection\n",
    "    iterations = 0\n",
    "    \n",
    "    while(iterations < max_iter)\n",
    "        intersection = next - ( next - current )/( f(next) - f(current) ) * f(next)\n",
    "\n",
    "        # check for NaN\n",
    "        isnan(intersection) ? break :\n",
    "        \n",
    "        # save intersection\n",
    "        push!(xArr, intersection)\n",
    "        \n",
    "        # set next x's\n",
    "        current = next\n",
    "        next = intersection\n",
    "        \n",
    "        \n",
    "        iterations += 1\n",
    "    end\n",
    "    \n",
    "    return xArr # return intersections\n",
    "end"
   ]
  },
  {
   "cell_type": "markdown",
   "metadata": {},
   "source": [
    "Now for a simple test of the secant method function; it seems to run well."
   ]
  },
  {
   "cell_type": "code",
   "execution_count": 88,
   "metadata": {},
   "outputs": [
    {
     "data": {
      "text/plain": [
       "8-element Array{Any,1}:\n",
       " -1.75              \n",
       " -2.090909090909091 \n",
       " -1.9940828402366864\n",
       " -1.9998683170924414\n",
       " -2.000000195092221 \n",
       " -1.9999999999935771\n",
       " -2.0               \n",
       " -2.0               "
      ]
     },
     "execution_count": 88,
     "metadata": {},
     "output_type": "execute_result"
    }
   ],
   "source": [
    "# sm function test\n",
    "\n",
    "f(x) = x^2 - 4\n",
    "sm(-3,-1,f) # looking for -2"
   ]
  },
  {
   "cell_type": "markdown",
   "metadata": {},
   "source": [
    "Listing these duplicate intersection can be prevented if need be; the algorithm will stop when it encounters a ${\\tt NaN}$, which is seen in this test."
   ]
  },
  {
   "cell_type": "markdown",
   "metadata": {},
   "source": [
    "## Find zeros for the following functions with the given $x$'s to start\n",
    "We are tasked with finding the zeros of the following functions:\n",
    "\n",
    "### Function 1: \n",
    "$ f(x) = x^5 - x - 1 $  \n",
    "\n",
    "$x_0,x_1 = (0.9,0.8)$  \n",
    "and  \n",
    "$x_0,x_1 = (0.5,0.6)$\n",
    "\n",
    "### Function 2: \n",
    "$ f(x) = e^x - x^4 $  \n",
    "\n",
    "$x_0,x_1 = (7.9,8.0)$\n",
    "\n",
    "### Function 3 (Newton Baffler): \n",
    "Let $m=1$, $b=\\frac{1}{2}$\n",
    "\n",
    "$\n",
    "f(x) = \\left\\{\n",
    "        \\begin{array}{ll}\n",
    "            2mx & \\quad -b < x < b \\\\\n",
    "            2mb + m(x-b)& \\quad x > b \\\\\n",
    "            -2mb + m(x+b) & \\quad x < -b\n",
    "        \\end{array}\n",
    "    \\right.\n",
    "$\n",
    "\n",
    "\n",
    "$x_0,x_1 = (-1,\\frac{3}{4})$"
   ]
  },
  {
   "cell_type": "markdown",
   "metadata": {},
   "source": [
    "<hr>"
   ]
  },
  {
   "cell_type": "markdown",
   "metadata": {},
   "source": [
    "## Function 1: \n",
    "$ f(x) = x^5 - x - 1 $  \n",
    "\n",
    "$x_0,x_1 = (0.9,0.8)$  \n",
    "and  \n",
    "$x_0,x_1 = (0.5,0.6)$\n",
    "\n",
    "Plotted below:"
   ]
  },
  {
   "cell_type": "code",
   "execution_count": 89,
   "metadata": {},
   "outputs": [
    {
     "data": {
      "image/png": "[encoded data removed]"
     },
     "execution_count": 89,
     "metadata": {},
     "output_type": "execute_result"
    }
   ],
   "source": [
    "f(x) = x^5 - x - 1\n",
    "bound = 2\n",
    "plot(f,-bound,bound,label=\"\",color=\"black\",lw=1.5,grid=false)\n",
    "plot!(zero,-bound,bound,label=\"\",color=\"black\",lw=1.5,grid=false,linestyle=:dash)"
   ]
  },
  {
   "cell_type": "markdown",
   "metadata": {},
   "source": [
    "### Finding zeros using ${\\tt sm}$ function:"
   ]
  },
  {
   "cell_type": "code",
   "execution_count": 90,
   "metadata": {},
   "outputs": [
    {
     "name": "stdout",
     "output_type": "stream",
     "text": [
      "Starting from 0.9, 0.8 \n",
      " then from 0.5, 0.6:\n",
      "\n",
      "Any[1.70432, 0.901267, 0.982092, 1.34476, 1.10624, 1.14909, 1.16963, 1.16722, 1.1673, 1.1673, 1.1673, 1.1673]\n",
      "\titerations: 12\n",
      "\n",
      "\n",
      "Any[-2.24584, 0.679683, 0.762283, 4.94353, 0.764418, 0.766549, 2.86187, 0.783145, 0.799465, 2.3324, 0.83308, 0.86506, 1.7277, 0.949849, 1.01597, 1.26982, 1.13655, 1.16171, 1.16765, 1.1673, 1.1673, 1.1673, 1.1673, 1.1673]\n",
      "\titerations: 24\n",
      "\n",
      "\n",
      "Evaluating function at both zeros found:\n",
      "\n",
      "6.661338147750939e-16, 6.661338147750939e-16\n"
     ]
    }
   ],
   "source": [
    "ans1 = sm(0.9,0.8,f,30)\n",
    "ans2 = sm(0.5,0.6,f,30)\n",
    "answers = [ans1,ans2]\n",
    "\n",
    "println(\"Starting from 0.9, 0.8 \\n then from 0.5, 0.6:\\n\")\n",
    "for i in answers\n",
    "    println(i, \"\\n\\titerations: \", length(i),\"\\n\\n\")\n",
    "end\n",
    "\n",
    "println(\"Evaluating function at both zeros found:\")\n",
    "println(\"\\n\", f(ans1[end]), \", \", f(ans2[end]))"
   ]
  },
  {
   "cell_type": "markdown",
   "metadata": {},
   "source": [
    "## Function 2: \n",
    "$ f(x) = e^x - x^4 $  \n",
    "\n",
    "$x_0,x_1 = (7.9,8.0)$\n",
    "\n",
    "Plotted below:"
   ]
  },
  {
   "cell_type": "code",
   "execution_count": 91,
   "metadata": {},
   "outputs": [
    {
     "data": {
      "image/png": "[encoded data removed]"
     },
     "execution_count": 91,
     "metadata": {},
     "output_type": "execute_result"
    }
   ],
   "source": [
    "f(x) = exp(x) - x^4\n",
    "bound = 10\n",
    "plot(f,-bound,bound,label=\"\",color=\"black\",lw=1.5,grid=false)\n",
    "plot!(zero,-bound,bound,label=\"\",color=\"black\",lw=1.5,grid=false,linestyle=:dash)"
   ]
  },
  {
   "cell_type": "markdown",
   "metadata": {},
   "source": [
    "### Finding zeros using ${\\tt sm}$ function:"
   ]
  },
  {
   "cell_type": "code",
   "execution_count": 92,
   "metadata": {},
   "outputs": [
    {
     "name": "stdout",
     "output_type": "stream",
     "text": [
      "Any[9.34856, 8.30321, 8.46741, 8.65636, 8.60804, 8.613, 8.61317, 8.61317, 8.61317, 8.61317, 8.61317]\n",
      "\n",
      "Eval. at zero found:\n",
      "1.8189894035458565e-12\n"
     ]
    }
   ],
   "source": [
    "ansArr = sm(7.9,8.0,f,30)\n",
    "println(ansArr, \"\\n\\n\", \"Eval. at zero found:\\n\", f(ansArr[end]))"
   ]
  },
  {
   "cell_type": "markdown",
   "metadata": {},
   "source": [
    "## Function 3 (Newton Baffler): \n",
    "Let $m=1$, $b=\\frac{1}{2}$\n",
    "\n",
    "$\n",
    "f(x) = \\left\\{\n",
    "        \\begin{array}{ll}\n",
    "            2mx & \\quad -b < x < b \\\\\n",
    "            2mb + m(x-b)& \\quad x > b \\\\\n",
    "            -2mb + m(x+b) & \\quad x < -b\n",
    "        \\end{array}\n",
    "    \\right.\n",
    "$\n",
    "\n",
    "\n",
    "$x_0,x_1 = (-1,\\frac{3}{4})$\n",
    "\n",
    "Plotted below:"
   ]
  },
  {
   "cell_type": "code",
   "execution_count": 93,
   "metadata": {},
   "outputs": [
    {
     "data": {
      "image/png": "[encoded data removed]"
     },
     "execution_count": 93,
     "metadata": {},
     "output_type": "execute_result"
    }
   ],
   "source": [
    "function nBaffler(x, m = 1, b = 1/2)\n",
    "    if(-b<x<b) return 2*m*x end\n",
    "    if(x>b) return 2*m*b + m*(x-b) end\n",
    "    if(x<-b) return -2*m*b + m*(x+b) end\n",
    "end\n",
    "\n",
    "bound = 3\n",
    "plot(nBaffler,-bound,bound,label=\"\",color=\"black\",lw=1.5,grid=false)\n",
    "plot!(zero,-bound,bound,label=\"\",color=\"black\",lw=1.5,grid=false,linestyle=:dash)"
   ]
  },
  {
   "cell_type": "markdown",
   "metadata": {},
   "source": [
    "### Finding zeros using ${\\tt sm}$ function:"
   ]
  },
  {
   "cell_type": "code",
   "execution_count": 94,
   "metadata": {},
   "outputs": [
    {
     "data": {
      "text/plain": [
       "4-element Array{Any,1}:\n",
       " -0.045454545454545414\n",
       "  0.008474576271186432\n",
       "  0.0                 \n",
       "  0.0                 "
      ]
     },
     "execution_count": 94,
     "metadata": {},
     "output_type": "execute_result"
    }
   ],
   "source": [
    "sm(-1,3/4,nBaffler,30)"
   ]
  },
  {
   "cell_type": "code",
   "execution_count": null,
   "metadata": {},
   "outputs": [],
   "source": []
  }
 ],
 "metadata": {
  "kernelspec": {
   "display_name": "Julia 0.7.0",
   "language": "julia",
   "name": "julia-0.7"
  },
  "language_info": {
   "file_extension": ".jl",
   "mimetype": "application/julia",
   "name": "julia",
   "version": "0.7.0"
  }
 },
 "nbformat": 4,
 "nbformat_minor": 2
}
