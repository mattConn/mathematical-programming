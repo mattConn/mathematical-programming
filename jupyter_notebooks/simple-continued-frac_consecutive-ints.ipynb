{
 "cells": [
  {
   "cell_type": "code",
   "execution_count": 56,
   "metadata": {},
   "outputs": [
    {
     "data": {
      "text/plain": [
       "cf2num (generic function with 1 method)"
      ]
     },
     "execution_count": 56,
     "metadata": {},
     "output_type": "execute_result"
    }
   ],
   "source": [
    "include(\"../math-functions/continued-fractions.jl\")"
   ]
  },
  {
   "cell_type": "code",
   "execution_count": 84,
   "metadata": {},
   "outputs": [
    {
     "name": "stdout",
     "output_type": "stream",
     "text": [
      "1.4 : 7//5\n",
      "1.43 : 143//100\n",
      "1.433 : 1433//1000\n",
      "1.4331 : 14331//10000\n",
      "1.43312 : 8957//6250\n",
      "1.433127 : 1433127//1000000\n",
      "1.4331274 : 7165637//5000000\n",
      "1.43312742 : 71656371//50000000\n",
      "1.433127426 : 117788114//82189561\n",
      "1.4331274267 : 91092649//63562142\n",
      "1.43312742672 : 84103341//58685180\n",
      "1.433127426722 : 100168377//69894955\n",
      "1.4331274267223 : 54645712//38130393\n",
      "1.43312742672231 : 53164142//37096591\n",
      "1.433127426722315 : 7489051//5225670\n",
      "1.433127426722315 : 7489051//5225670\n"
     ]
    }
   ],
   "source": [
    "cf = []\n",
    "for i in 1:10\n",
    "    push!(cf,i)\n",
    "end\n",
    "\n",
    "n = cf2num(cf)\n",
    "\n",
    "for i in 1:16\n",
    "    println(trunc(n,i),\" : \",rationalize(trunc(n,i)))\n",
    "end"
   ]
  },
  {
   "cell_type": "markdown",
   "metadata": {},
   "source": [
    "#### $$ 1.433127\\ldots = 1 + \\cfrac{1}{2+\\cfrac{1}{3+\\cfrac{1}{4+\\cfrac{1}{5+\\cfrac{1}{6+\\cfrac{1}{7+\\dots}}}}}} $$"
   ]
  },
  {
   "cell_type": "code",
   "execution_count": null,
   "metadata": {},
   "outputs": [],
   "source": []
  },
  {
   "cell_type": "code",
   "execution_count": null,
   "metadata": {},
   "outputs": [],
   "source": []
  }
 ],
 "metadata": {
  "kernelspec": {
   "display_name": "Julia 0.6.2",
   "language": "julia",
   "name": "julia-0.6"
  },
  "language_info": {
   "file_extension": ".jl",
   "mimetype": "application/julia",
   "name": "julia",
   "version": "0.6.2"
  }
 },
 "nbformat": 4,
 "nbformat_minor": 2
}
