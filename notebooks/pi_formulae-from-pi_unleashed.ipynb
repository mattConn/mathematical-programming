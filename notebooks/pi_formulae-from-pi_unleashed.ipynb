{
 "cells": [
  {
   "cell_type": "code",
   "execution_count": 120,
   "metadata": {},
   "outputs": [],
   "source": [
    "using Plots"
   ]
  },
  {
   "cell_type": "markdown",
   "metadata": {},
   "source": [
    "Friedrich Gauss\n",
    "$$ \\pi(13) = \\frac{22}{7}\\cdot\\frac{2484}{2485}\\cdot\\frac{12983009}{12983008} $$"
   ]
  },
  {
   "cell_type": "code",
   "execution_count": 27,
   "metadata": {},
   "outputs": [
    {
     "data": {
      "text/plain": [
       "3.1415926535897696"
      ]
     },
     "execution_count": 27,
     "metadata": {},
     "output_type": "execute_result"
    }
   ],
   "source": [
    "22/7 * 2484/2485 * 12983009/12983008"
   ]
  },
  {
   "cell_type": "markdown",
   "metadata": {},
   "source": [
    "James Gregory\n",
    "$$ \\tan^{-1}1 \\ = \\ \\frac{\\pi}{4}$$\n",
    "\n",
    "$$ \\tan^{-1}x \\ = \\ \\int_0^x \\frac{1}{1+t^2}\\ dt$$\n",
    "\n",
    "$$ \\implies \\tan^{-1}x \\ = \\ x-\\frac{x^3}{3}+\\frac{x^5}{5}+\\frac{x^7}{7}+\\dots $$\n",
    "\n",
    "Leibniz series: let x = 1\n",
    "\n",
    "$$ \\tan^{-1}1 \\ = \\ 1-\\frac{1}{3}+\\frac{1}{5}+\\frac{1}{7}+\\dots $$\n",
    "\n",
    "$$ \\implies \\tan^{-1}1 \\ = \\ \\sum_{n=0}^\\infty (-1)^n\\cdot\\frac{1}{2n+1}$$"
   ]
  },
  {
   "cell_type": "markdown",
   "metadata": {},
   "source": [
    "As a simple continued fraction (where all partial numerators are 1), this can be represented as:\n",
    "\n",
    "$$ 3 + \\cfrac{1}{7 + \\cfrac{1}{15 + \\cfrac{1}{1 + \\cfrac{1}{292}\\dots} }} $$\n",
    "\n",
    "Or represented as:\n",
    "\n",
    "$$ [3;7,15,1,292,\\dots] $$"
   ]
  },
  {
   "cell_type": "markdown",
   "metadata": {},
   "source": [
    "Rammanujan\n",
    "$$ \\pi(14) = \\frac{355}{113} \\ \\Big( 1-\\frac{0.0003}{3533}\\Big) $$\n",
    "\n",
    "$$ \\pi(8) = \\sqrt[4]{9^2+\\frac{19^2}{22}} $$"
   ]
  },
  {
   "cell_type": "markdown",
   "metadata": {},
   "source": [
    "Dario Castellanos (from Rammanujan's)\n",
    "$$ \\pi(8) = \\sqrt[4]{102-\\frac{2222}{22^2}} $$\n",
    "\n",
    "$$ \\pi(8) = \\sqrt[5]\\frac{77729}{254} $$"
   ]
  },
  {
   "cell_type": "markdown",
   "metadata": {},
   "source": [
    "Simon Plouffe\n",
    "$$ \\pi(6) = \\frac{689}{396} \\ \\div \\ \\ln\\Big(\\frac{689}{396}\\Big) $$"
   ]
  },
  {
   "cell_type": "code",
   "execution_count": 260,
   "metadata": {
    "scrolled": false
   },
   "outputs": [
    {
     "name": "stdout",
     "output_type": "stream",
     "text": [
      "2 : 22//7\n",
      "3 : 333//106\n",
      "4 : 355//113\n",
      "5 : 103993//33102\n",
      "6 : 104348//33215\n",
      "7 : 208341//66317\n",
      "8 : 312689//99532\n",
      "9 : 833719//265381\n",
      "10 : 1146408//364913\n",
      "11 : 4272943//1360120\n",
      "12 : 5419351//1725033\n",
      "13 : 80143857//25510582\n",
      "14 : 165707065//52746197\n",
      "15 : 165707065//52746197\n",
      "16 : 165707065//52746197\n"
     ]
    }
   ],
   "source": [
    "RoundNearest\n",
    "# continued fractions: converting from and to\n",
    "\n",
    "# number to continued fraction\n",
    "function num2cf(n)\n",
    "    cf = []\n",
    "    # testing for reciprocal of very small number\n",
    "    while n < 1E15 && length(cf) < 16 # stopping condition for infinite fractions  \n",
    "        m = modf(n)[2] # integer part\n",
    "        push!(cf,Int(m)) # save integer\n",
    "        \n",
    "        n = modf(n)[1]\n",
    "        n = 1/n # n is now recicprocal of rational part\n",
    "    end\n",
    "    return cf\n",
    "end\n",
    "\n",
    "# continued fraction to number\n",
    "function cf2num(cf)\n",
    "    n = last(cf)\n",
    "    for i in length(cf)-1:-1:1\n",
    "        n = 1/n + cf[i]\n",
    "    end\n",
    "    return n\n",
    "end\n",
    "\n",
    "# implementation\n",
    "# cf = num2cf(2.2)\n",
    "\n",
    "\n",
    "# view rational approximations of pi\n",
    "cf = num2cf(pi*1)\n",
    "cf2 = [cf[1]]\n",
    "for i in 2:length(cf)\n",
    "    push!(cf2,cf[i])\n",
    "    println( i, \" : \",rationalize(cf2num(cf2)) )\n",
    "end\n",
    "# rationalize( cf2num([3, 7]) )"
   ]
  },
  {
   "cell_type": "markdown",
   "metadata": {},
   "source": [
    "#### $$ 2.75 \\ = \\ 2 + \\cfrac{1}{1+\\cfrac{1}{3}} $$"
   ]
  },
  {
   "cell_type": "code",
   "execution_count": 182,
   "metadata": {},
   "outputs": [
    {
     "data": {
      "text/plain": [
       "RoundingMode{:ToZero}()"
      ]
     },
     "execution_count": 182,
     "metadata": {},
     "output_type": "execute_result"
    }
   ],
   "source": []
  },
  {
   "cell_type": "code",
   "execution_count": 222,
   "metadata": {},
   "outputs": [
    {
     "data": {
      "text/plain": [
       "0.20000000000000018"
      ]
     },
     "execution_count": 222,
     "metadata": {},
     "output_type": "execute_result"
    }
   ],
   "source": [
    "n = 2.2 - 2\n",
    "# modf(n)\n",
    "# println(n-(n-floor(n))), println( round(n-floor(n)) )\n",
    "# 1/.20000000000000018"
   ]
  },
  {
   "cell_type": "code",
   "execution_count": 174,
   "metadata": {},
   "outputs": [
    {
     "data": {
      "text/plain": [
       "RoundingMode{:Nearest}()"
      ]
     },
     "execution_count": 174,
     "metadata": {},
     "output_type": "execute_result"
    }
   ],
   "source": []
  },
  {
   "cell_type": "code",
   "execution_count": 77,
   "metadata": {},
   "outputs": [
    {
     "data": {
      "text/plain": [
       "3.333333333333333"
      ]
     },
     "execution_count": 77,
     "metadata": {},
     "output_type": "execute_result"
    }
   ],
   "source": [
    "2+4/3"
   ]
  },
  {
   "cell_type": "code",
   "execution_count": 74,
   "metadata": {},
   "outputs": [
    {
     "data": {
      "text/plain": [
       "2.75"
      ]
     },
     "execution_count": 74,
     "metadata": {},
     "output_type": "execute_result"
    }
   ],
   "source": [
    "11/4"
   ]
  },
  {
   "cell_type": "code",
   "execution_count": null,
   "metadata": {},
   "outputs": [],
   "source": []
  }
 ],
 "metadata": {
  "kernelspec": {
   "display_name": "Julia 0.6.2",
   "language": "julia",
   "name": "julia-0.6"
  },
  "language_info": {
   "file_extension": ".jl",
   "mimetype": "application/julia",
   "name": "julia",
   "version": "0.6.2"
  }
 },
 "nbformat": 4,
 "nbformat_minor": 2
}
