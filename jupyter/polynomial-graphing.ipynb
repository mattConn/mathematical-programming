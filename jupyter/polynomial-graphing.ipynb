{
 "cells": [
  {
   "cell_type": "markdown",
   "metadata": {},
   "source": [
    "# Polynomial Graphing\n",
    "## Meant primarily for quadratics, but is a work in process\n",
    "\n",
    "**TODO:**\n",
    "- Add reset button\n",
    "- Multiple graphs in plot\n",
    "- for complex numbers: when real approaching zero, round to zero?\n",
    "- ability to plot curve based vertex, roots, etc."
   ]
  },
  {
   "cell_type": "code",
   "execution_count": 206,
   "metadata": {
    "collapsed": false,
    "scrolled": false
   },
   "outputs": [
    {
     "name": "stdout",
     "output_type": "stream",
     "text": [
      "[roots: (-50.00000000000001-86.60254037844388j), (-49.99999999999999+86.60254037844388j) ]\n",
      "[vertex: (-50+0j), (249510+0j)]\n",
      "[y-intercept: 10]\n"
     ]
    },
    {
     "data": {
      "text/plain": [
       "<function __main__.graph>"
      ]
     },
     "execution_count": 206,
     "metadata": {},
     "output_type": "execute_result"
    },
    {
     "data": {
      "image/png": "[encoded data removed]",
      "text/plain": [
       "<matplotlib.figure.Figure at 0x7f4448409a20>"
      ]
     },
     "metadata": {},
     "output_type": "display_data"
    }
   ],
   "source": [
    "%matplotlib inline\n",
    "import numpy as np\n",
    "import math\n",
    "import matplotlib.pyplot as plt\n",
    "from ipywidgets import interact, interactive, fixed, interact_manual\n",
    "\n",
    "# quadratic equation functions\n",
    "\n",
    "# get roots via quadratic formula\n",
    "def root(plusOrMinus,a,b,c):\n",
    "    return (-b+plusOrMinus*pow(b**2 - 4*a*c,1/2))/2*a\n",
    "\n",
    "# parabola axis of symmetry\n",
    "def axis_of_symmetry(firstRoot,secondRoot):\n",
    "    return (firstRoot+secondRoot)/2\n",
    "\n",
    "#quadratic standard form\n",
    "def f(degree,domain,a,b,c):\n",
    "    return (a*domain)**degree + b*domain + c\n",
    "\n",
    "#domain\n",
    "x = np.linspace(-1,1)\n",
    "    \n",
    "# plotting function\n",
    "def graph(degree,domain,a,b,c,):\n",
    "    \n",
    "    #roots and vertices\n",
    "    firstRoot = root(-1,a,b,c)\n",
    "    secondRoot = root(1,a,b,c)\n",
    "    vertex_x_coord = axis_of_symmetry(firstRoot, secondRoot)\n",
    "    vertex_y_coord = f(degree,vertex_x_coord,a,b,c)\n",
    "    \n",
    "    plt.grid()\n",
    "    plt.plot(x,f(degree,domain,a,b,c))\n",
    "    \n",
    "    # display equation, roots, vertex, and y-intercept\n",
    "    plt.title(\"%sx^2+%sx+%s\" % (a,b,c))\n",
    "    print(\n",
    "        \"[roots: %s, %s ]\\n[vertex: %s, %s]\\n[y-intercept: %s]\" % (\n",
    "            firstRoot,\n",
    "            secondRoot,\n",
    "            vertex_x_coord,\n",
    "            vertex_y_coord,\n",
    "            c\n",
    "        )\n",
    "    )\n",
    "\n",
    "interact(graph,domain=fixed(x),degree=fixed(2),a=10,b=10,c=10)"
   ]
  },
  {
   "cell_type": "code",
   "execution_count": null,
   "metadata": {
    "collapsed": true
   },
   "outputs": [],
   "source": []
  }
 ],
 "metadata": {
  "kernelspec": {
   "display_name": "Python 3",
   "language": "python",
   "name": "python3"
  },
  "language_info": {
   "codemirror_mode": {
    "name": "ipython",
    "version": 3
   },
   "file_extension": ".py",
   "mimetype": "text/x-python",
   "name": "python",
   "nbconvert_exporter": "python",
   "pygments_lexer": "ipython3",
   "version": "3.6.0"
  },
  "widgets": {
   "state": {
    "51c2db2776614bc48399dddfcf16232b": {
     "views": [
      {
       "cell_index": 1
      }
     ]
    }
   },
   "version": "1.2.0"
  }
 },
 "nbformat": 4,
 "nbformat_minor": 2
}
